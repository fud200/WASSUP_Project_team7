{
  "nbformat": 4,
  "nbformat_minor": 0,
  "metadata": {
    "colab": {
      "provenance": [],
      "authorship_tag": "ABX9TyN1AtbleQCQQfcY5fRluEni"
    },
    "kernelspec": {
      "name": "python3",
      "display_name": "Python 3"
    },
    "language_info": {
      "name": "python"
    }
  },
  "cells": [
    {
      "cell_type": "code",
      "source": [
        "!pip install pytorch-tabnet"
      ],
      "metadata": {
        "colab": {
          "base_uri": "https://localhost:8080/"
        },
        "id": "r1ynMS5rGVxU",
        "outputId": "2b072c5f-f6f3-4e6c-80de-8684e389d35e"
      },
      "execution_count": 1,
      "outputs": [
        {
          "output_type": "stream",
          "name": "stdout",
          "text": [
            "Requirement already satisfied: pytorch-tabnet in /usr/local/lib/python3.10/dist-packages (4.1.0)\n",
            "Requirement already satisfied: numpy>=1.17 in /usr/local/lib/python3.10/dist-packages (from pytorch-tabnet) (1.25.2)\n",
            "Requirement already satisfied: scikit_learn>0.21 in /usr/local/lib/python3.10/dist-packages (from pytorch-tabnet) (1.2.2)\n",
            "Requirement already satisfied: scipy>1.4 in /usr/local/lib/python3.10/dist-packages (from pytorch-tabnet) (1.11.4)\n",
            "Requirement already satisfied: torch>=1.3 in /usr/local/lib/python3.10/dist-packages (from pytorch-tabnet) (2.1.0+cu121)\n",
            "Requirement already satisfied: tqdm>=4.36 in /usr/local/lib/python3.10/dist-packages (from pytorch-tabnet) (4.66.2)\n",
            "Requirement already satisfied: joblib>=1.1.1 in /usr/local/lib/python3.10/dist-packages (from scikit_learn>0.21->pytorch-tabnet) (1.3.2)\n",
            "Requirement already satisfied: threadpoolctl>=2.0.0 in /usr/local/lib/python3.10/dist-packages (from scikit_learn>0.21->pytorch-tabnet) (3.3.0)\n",
            "Requirement already satisfied: filelock in /usr/local/lib/python3.10/dist-packages (from torch>=1.3->pytorch-tabnet) (3.13.1)\n",
            "Requirement already satisfied: typing-extensions in /usr/local/lib/python3.10/dist-packages (from torch>=1.3->pytorch-tabnet) (4.9.0)\n",
            "Requirement already satisfied: sympy in /usr/local/lib/python3.10/dist-packages (from torch>=1.3->pytorch-tabnet) (1.12)\n",
            "Requirement already satisfied: networkx in /usr/local/lib/python3.10/dist-packages (from torch>=1.3->pytorch-tabnet) (3.2.1)\n",
            "Requirement already satisfied: jinja2 in /usr/local/lib/python3.10/dist-packages (from torch>=1.3->pytorch-tabnet) (3.1.3)\n",
            "Requirement already satisfied: fsspec in /usr/local/lib/python3.10/dist-packages (from torch>=1.3->pytorch-tabnet) (2023.6.0)\n",
            "Requirement already satisfied: triton==2.1.0 in /usr/local/lib/python3.10/dist-packages (from torch>=1.3->pytorch-tabnet) (2.1.0)\n",
            "Requirement already satisfied: MarkupSafe>=2.0 in /usr/local/lib/python3.10/dist-packages (from jinja2->torch>=1.3->pytorch-tabnet) (2.1.5)\n",
            "Requirement already satisfied: mpmath>=0.19 in /usr/local/lib/python3.10/dist-packages (from sympy->torch>=1.3->pytorch-tabnet) (1.3.0)\n"
          ]
        }
      ]
    },
    {
      "cell_type": "code",
      "execution_count": 2,
      "metadata": {
        "id": "zT_frz329AFJ"
      },
      "outputs": [],
      "source": [
        "import os\n",
        "import numpy as np\n",
        "import pandas as pd\n",
        "import matplotlib.pyplot as plt\n",
        "import seaborn as sns\n",
        "from sklearn.model_selection import train_test_split\n",
        "import random\n",
        "import warnings\n",
        "from sklearn.metrics import roc_auc_score\n",
        "from sklearn.preprocessing import LabelEncoder\n",
        "import torch\n",
        "import torch.nn as nn\n",
        "from pytorch_tabnet.tab_model import TabNetClassifier\n",
        "from sklearn.model_selection import train_test_split\n",
        "from sklearn.metrics import accuracy_score\n",
        "warnings.filterwarnings(action='ignore')"
      ]
    },
    {
      "cell_type": "code",
      "source": [
        "from google.colab import drive\n",
        "drive.mount('/content/drive')"
      ],
      "metadata": {
        "colab": {
          "base_uri": "https://localhost:8080/"
        },
        "id": "IvIwvzA6GQCt",
        "outputId": "ff6709cf-9d29-4578-f94d-af6e39ed984a"
      },
      "execution_count": 3,
      "outputs": [
        {
          "output_type": "stream",
          "name": "stdout",
          "text": [
            "Drive already mounted at /content/drive; to attempt to forcibly remount, call drive.mount(\"/content/drive\", force_remount=True).\n"
          ]
        }
      ]
    },
    {
      "cell_type": "code",
      "source": [
        "train = pd.read_csv('/content/drive/MyDrive/Colab_Notebooks/WASSUP/project/train_modified.csv')\n",
        "test = pd.read_csv('/content/drive/MyDrive/Colab_Notebooks/WASSUP/project/test.csv')"
      ],
      "metadata": {
        "id": "KUCSqn3dO20d"
      },
      "execution_count": 4,
      "outputs": []
    },
    {
      "cell_type": "code",
      "source": [
        "train['Race'] = train['Race'].map({'Asian' : 0, 'Hispanic' : 0, 'Black' : 1, 'White' : 0})\n",
        "test['Race'] = test['Race'].map({'Asian' : 0, 'Hispanic' : 0, 'Black' : 1, 'White' : 0})"
      ],
      "metadata": {
        "id": "ulkvW7SPO3eV"
      },
      "execution_count": 5,
      "outputs": []
    },
    {
      "cell_type": "code",
      "source": [
        "# train = pd.read_csv('/content/drive/MyDrive/Colab_Notebooks/WASSUP/project/train_modified.csv', header=None)\n",
        "target = 'Diagnosis'    # 41번째 컬럼\n",
        "if \"Set\" not in train.columns:\n",
        "    train[\"Set\"] = np.random.choice([\"train\", \"valid\"], p =[.8, .2,], size=(train.shape[0],))\n",
        "\n",
        "train_indices = train[train.Set==\"train\"].index\n",
        "valid_indices = train[train.Set==\"valid\"].index\n",
        "# test_indices = train[train.Set==\"test\"].index"
      ],
      "metadata": {
        "id": "YtG9WS7mM3fR"
      },
      "execution_count": 6,
      "outputs": []
    },
    {
      "cell_type": "code",
      "source": [
        "nunique = train.nunique()\n",
        "types = train.dtypes\n",
        "\n",
        "categorical_columns = []\n",
        "categorical_dims =  {}\n",
        "for col in train.columns:\n",
        "    if types[col] == 'object' or nunique[col] < 200:\n",
        "        print(col, train[col].nunique())\n",
        "        l_enc = LabelEncoder()\n",
        "        train[col] = train[col].fillna(\"VV_likely\")\n",
        "        train[col] = l_enc.fit_transform(train[col].values)\n",
        "        categorical_columns.append(col)\n",
        "        categorical_dims[col] = len(l_enc.classes_)\n",
        "    else:\n",
        "        train.fillna(train.loc[train_indices, col].mean(), inplace=True)\n",
        "\n",
        "\n",
        "# Categorical Embedding을 위해 Categorical 변수의 차원과 idxs를 담음.\n",
        "# unused_feat = ['Set']\n",
        "unused_feat = ['Set','Income','Passive','Sleep','Appetite']\n",
        "features = [ col for col in train.columns if col not in unused_feat+[target]]\n",
        "cat_idxs = [ i for i, f in enumerate(features) if f in categorical_columns]\n",
        "cat_dims = [ categorical_dims[f] for i, f in enumerate(features) if f in categorical_columns]\n",
        "\n",
        "\n",
        "\n",
        "X_train = train[features].values[train_indices]\n",
        "y_train = train[target].values[train_indices]\n",
        "\n",
        "X_valid = train[features].values[valid_indices]\n",
        "y_valid = train[target].values[valid_indices]\n",
        "\n",
        "# X_test = train[features].values[test_indices]\n",
        "# y_test = train[target].values[test_indices]"
      ],
      "metadata": {
        "colab": {
          "base_uri": "https://localhost:8080/"
        },
        "id": "dhU--O8xNIsp",
        "outputId": "1c4a1a23-637f-4c48-de69-b2dae9314632"
      },
      "execution_count": 7,
      "outputs": [
        {
          "output_type": "stream",
          "name": "stdout",
          "text": [
            "Diagnosis 2\n",
            "Sex 2\n",
            "Race 2\n",
            "Housing 2\n",
            "Delay 2\n",
            "Set 2\n"
          ]
        }
      ]
    },
    {
      "cell_type": "code",
      "source": [
        "clf = TabNetClassifier(cat_idxs=cat_idxs,\n",
        "                       cat_dims=cat_dims,\n",
        "                       cat_emb_dim=2, #10\n",
        "                       optimizer_fn=torch.optim.Adam,\n",
        "                       optimizer_params=dict(lr=1e-2),\n",
        "                       scheduler_params={\"step_size\":30,\n",
        "                                         \"gamma\":0.9},\n",
        "                       scheduler_fn=torch.optim.lr_scheduler.StepLR,\n",
        "                    #    mask_type='sparsemax'\n",
        "                       mask_type='entmax'\n",
        "                      )"
      ],
      "metadata": {
        "id": "613L2FY3OIZJ"
      },
      "execution_count": 8,
      "outputs": []
    },
    {
      "cell_type": "code",
      "source": [
        "max_epochs = 400\n",
        "\n",
        "clf.fit(\n",
        "    X_train=X_train, y_train=y_train,\n",
        "    eval_set=[(X_train, y_train), (X_valid, y_valid)],\n",
        "    eval_name=['train', 'valid'],\n",
        "    eval_metric=['auc'],\n",
        "    max_epochs=max_epochs , patience=50,\n",
        "    batch_size=1024, virtual_batch_size=128,\n",
        "    num_workers=0,\n",
        "    weights=1,\n",
        "    drop_last=False,\n",
        ")"
      ],
      "metadata": {
        "colab": {
          "base_uri": "https://localhost:8080/"
        },
        "id": "proWgG-yOMAq",
        "outputId": "69b5c286-62fe-42ae-b493-6227e9d3105f"
      },
      "execution_count": 9,
      "outputs": [
        {
          "output_type": "stream",
          "name": "stdout",
          "text": [
            "epoch 0  | loss: 0.70026 | train_auc: 0.51825 | valid_auc: 0.47013 |  0:00:02s\n",
            "epoch 1  | loss: 0.3235  | train_auc: 0.59138 | valid_auc: 0.60994 |  0:00:04s\n",
            "epoch 2  | loss: 0.19107 | train_auc: 0.60113 | valid_auc: 0.58108 |  0:00:05s\n",
            "epoch 3  | loss: 0.12361 | train_auc: 0.61887 | valid_auc: 0.60832 |  0:00:06s\n",
            "epoch 4  | loss: 0.08705 | train_auc: 0.53278 | valid_auc: 0.52447 |  0:00:08s\n",
            "epoch 5  | loss: 0.07349 | train_auc: 0.50452 | valid_auc: 0.49971 |  0:00:09s\n",
            "epoch 6  | loss: 0.05926 | train_auc: 0.55281 | valid_auc: 0.53471 |  0:00:11s\n",
            "epoch 7  | loss: 0.05569 | train_auc: 0.63493 | valid_auc: 0.61671 |  0:00:12s\n",
            "epoch 8  | loss: 0.05164 | train_auc: 0.70866 | valid_auc: 0.69592 |  0:00:13s\n",
            "epoch 9  | loss: 0.05095 | train_auc: 0.77057 | valid_auc: 0.74863 |  0:00:16s\n",
            "epoch 10 | loss: 0.04847 | train_auc: 0.83272 | valid_auc: 0.82275 |  0:00:18s\n",
            "epoch 11 | loss: 0.04552 | train_auc: 0.88147 | valid_auc: 0.87629 |  0:00:20s\n",
            "epoch 12 | loss: 0.0465  | train_auc: 0.92698 | valid_auc: 0.92321 |  0:00:21s\n",
            "epoch 13 | loss: 0.04107 | train_auc: 0.94769 | valid_auc: 0.94475 |  0:00:23s\n",
            "epoch 14 | loss: 0.03997 | train_auc: 0.96494 | valid_auc: 0.96359 |  0:00:24s\n",
            "epoch 15 | loss: 0.04552 | train_auc: 0.9791  | valid_auc: 0.98086 |  0:00:25s\n",
            "epoch 16 | loss: 0.03739 | train_auc: 0.98378 | valid_auc: 0.98632 |  0:00:25s\n",
            "epoch 17 | loss: 0.03488 | train_auc: 0.99028 | valid_auc: 0.99126 |  0:00:26s\n",
            "epoch 18 | loss: 0.03417 | train_auc: 0.99367 | valid_auc: 0.99465 |  0:00:27s\n",
            "epoch 19 | loss: 0.03256 | train_auc: 0.99523 | valid_auc: 0.99611 |  0:00:27s\n",
            "epoch 20 | loss: 0.03174 | train_auc: 0.9961  | valid_auc: 0.99671 |  0:00:28s\n",
            "epoch 21 | loss: 0.03638 | train_auc: 0.99681 | valid_auc: 0.99755 |  0:00:29s\n",
            "epoch 22 | loss: 0.02988 | train_auc: 0.99744 | valid_auc: 0.99805 |  0:00:30s\n",
            "epoch 23 | loss: 0.03805 | train_auc: 0.99774 | valid_auc: 0.99831 |  0:00:31s\n",
            "epoch 24 | loss: 0.0398  | train_auc: 0.99776 | valid_auc: 0.9982  |  0:00:32s\n",
            "epoch 25 | loss: 0.03376 | train_auc: 0.99852 | valid_auc: 0.99855 |  0:00:32s\n",
            "epoch 26 | loss: 0.03127 | train_auc: 0.99878 | valid_auc: 0.99892 |  0:00:33s\n",
            "epoch 27 | loss: 0.03277 | train_auc: 0.99887 | valid_auc: 0.99913 |  0:00:34s\n",
            "epoch 28 | loss: 0.02933 | train_auc: 0.99897 | valid_auc: 0.99915 |  0:00:34s\n",
            "epoch 29 | loss: 0.0296  | train_auc: 0.99917 | valid_auc: 0.99928 |  0:00:35s\n",
            "epoch 30 | loss: 0.03267 | train_auc: 0.99911 | valid_auc: 0.99918 |  0:00:36s\n",
            "epoch 31 | loss: 0.03095 | train_auc: 0.99916 | valid_auc: 0.9992  |  0:00:36s\n",
            "epoch 32 | loss: 0.03446 | train_auc: 0.99941 | valid_auc: 0.99931 |  0:00:37s\n",
            "epoch 33 | loss: 0.03124 | train_auc: 0.99949 | valid_auc: 0.99937 |  0:00:37s\n",
            "epoch 34 | loss: 0.03261 | train_auc: 0.99947 | valid_auc: 0.99918 |  0:00:38s\n",
            "epoch 35 | loss: 0.02643 | train_auc: 0.9995  | valid_auc: 0.99923 |  0:00:39s\n",
            "epoch 36 | loss: 0.02622 | train_auc: 0.99956 | valid_auc: 0.99938 |  0:00:39s\n",
            "epoch 37 | loss: 0.0314  | train_auc: 0.99963 | valid_auc: 0.99957 |  0:00:40s\n",
            "epoch 38 | loss: 0.03055 | train_auc: 0.99962 | valid_auc: 0.99948 |  0:00:41s\n",
            "epoch 39 | loss: 0.02619 | train_auc: 0.9996  | valid_auc: 0.99951 |  0:00:41s\n",
            "epoch 40 | loss: 0.02584 | train_auc: 0.99961 | valid_auc: 0.99939 |  0:00:42s\n",
            "epoch 41 | loss: 0.03271 | train_auc: 0.99963 | valid_auc: 0.9995  |  0:00:43s\n",
            "epoch 42 | loss: 0.02858 | train_auc: 0.99965 | valid_auc: 0.99963 |  0:00:44s\n",
            "epoch 43 | loss: 0.03067 | train_auc: 0.99971 | valid_auc: 0.99959 |  0:00:45s\n",
            "epoch 44 | loss: 0.02485 | train_auc: 0.99967 | valid_auc: 0.99954 |  0:00:46s\n",
            "epoch 45 | loss: 0.02213 | train_auc: 0.9997  | valid_auc: 0.99956 |  0:00:46s\n",
            "epoch 46 | loss: 0.02746 | train_auc: 0.99969 | valid_auc: 0.99958 |  0:00:47s\n",
            "epoch 47 | loss: 0.02358 | train_auc: 0.99969 | valid_auc: 0.9996  |  0:00:47s\n",
            "epoch 48 | loss: 0.0269  | train_auc: 0.99967 | valid_auc: 0.99953 |  0:00:48s\n",
            "epoch 49 | loss: 0.02784 | train_auc: 0.99969 | valid_auc: 0.99959 |  0:00:49s\n",
            "epoch 50 | loss: 0.02444 | train_auc: 0.9996  | valid_auc: 0.99953 |  0:00:49s\n",
            "epoch 51 | loss: 0.03239 | train_auc: 0.99964 | valid_auc: 0.99947 |  0:00:50s\n",
            "epoch 52 | loss: 0.03011 | train_auc: 0.99968 | valid_auc: 0.99953 |  0:00:51s\n",
            "epoch 53 | loss: 0.02789 | train_auc: 0.99972 | valid_auc: 0.99954 |  0:00:52s\n",
            "epoch 54 | loss: 0.02773 | train_auc: 0.99974 | valid_auc: 0.99954 |  0:00:53s\n",
            "epoch 55 | loss: 0.02517 | train_auc: 0.99975 | valid_auc: 0.9996  |  0:00:53s\n",
            "epoch 56 | loss: 0.02726 | train_auc: 0.99978 | valid_auc: 0.99957 |  0:00:54s\n",
            "epoch 57 | loss: 0.02702 | train_auc: 0.99978 | valid_auc: 0.99953 |  0:00:55s\n",
            "epoch 58 | loss: 0.03019 | train_auc: 0.99978 | valid_auc: 0.99958 |  0:00:56s\n",
            "epoch 59 | loss: 0.02589 | train_auc: 0.99976 | valid_auc: 0.99954 |  0:00:56s\n",
            "epoch 60 | loss: 0.02257 | train_auc: 0.99977 | valid_auc: 0.99952 |  0:00:57s\n",
            "epoch 61 | loss: 0.02433 | train_auc: 0.99983 | valid_auc: 0.99953 |  0:00:58s\n",
            "epoch 62 | loss: 0.0222  | train_auc: 0.99982 | valid_auc: 0.99964 |  0:00:59s\n",
            "epoch 63 | loss: 0.02072 | train_auc: 0.99982 | valid_auc: 0.99961 |  0:01:00s\n",
            "epoch 64 | loss: 0.0207  | train_auc: 0.99982 | valid_auc: 0.99948 |  0:01:00s\n",
            "epoch 65 | loss: 0.02928 | train_auc: 0.99983 | valid_auc: 0.99939 |  0:01:01s\n",
            "epoch 66 | loss: 0.0261  | train_auc: 0.99985 | valid_auc: 0.9995  |  0:01:01s\n",
            "epoch 67 | loss: 0.02109 | train_auc: 0.99984 | valid_auc: 0.99953 |  0:01:02s\n",
            "epoch 68 | loss: 0.02759 | train_auc: 0.99986 | valid_auc: 0.99946 |  0:01:03s\n",
            "epoch 69 | loss: 0.02366 | train_auc: 0.99988 | valid_auc: 0.9994  |  0:01:03s\n",
            "epoch 70 | loss: 0.02373 | train_auc: 0.99987 | valid_auc: 0.99944 |  0:01:04s\n",
            "epoch 71 | loss: 0.02099 | train_auc: 0.99987 | valid_auc: 0.99949 |  0:01:04s\n",
            "epoch 72 | loss: 0.02349 | train_auc: 0.99987 | valid_auc: 0.99954 |  0:01:05s\n",
            "epoch 73 | loss: 0.02861 | train_auc: 0.99989 | valid_auc: 0.99952 |  0:01:06s\n",
            "epoch 74 | loss: 0.02497 | train_auc: 0.99988 | valid_auc: 0.99955 |  0:01:06s\n",
            "epoch 75 | loss: 0.02504 | train_auc: 0.99987 | valid_auc: 0.9995  |  0:01:07s\n",
            "epoch 76 | loss: 0.02173 | train_auc: 0.99988 | valid_auc: 0.99953 |  0:01:08s\n",
            "epoch 77 | loss: 0.02118 | train_auc: 0.99989 | valid_auc: 0.99958 |  0:01:08s\n",
            "epoch 78 | loss: 0.02132 | train_auc: 0.99989 | valid_auc: 0.99953 |  0:01:09s\n",
            "epoch 79 | loss: 0.023   | train_auc: 0.99988 | valid_auc: 0.99951 |  0:01:10s\n",
            "epoch 80 | loss: 0.02115 | train_auc: 0.9999  | valid_auc: 0.99958 |  0:01:11s\n",
            "epoch 81 | loss: 0.02031 | train_auc: 0.99988 | valid_auc: 0.99963 |  0:01:12s\n",
            "epoch 82 | loss: 0.01978 | train_auc: 0.99989 | valid_auc: 0.99962 |  0:01:13s\n",
            "epoch 83 | loss: 0.0196  | train_auc: 0.99989 | valid_auc: 0.99952 |  0:01:13s\n",
            "epoch 84 | loss: 0.01928 | train_auc: 0.99989 | valid_auc: 0.9995  |  0:01:14s\n",
            "epoch 85 | loss: 0.01884 | train_auc: 0.9999  | valid_auc: 0.99944 |  0:01:14s\n",
            "epoch 86 | loss: 0.01841 | train_auc: 0.99987 | valid_auc: 0.99952 |  0:01:15s\n",
            "epoch 87 | loss: 0.02043 | train_auc: 0.99989 | valid_auc: 0.99947 |  0:01:16s\n",
            "epoch 88 | loss: 0.01818 | train_auc: 0.99992 | valid_auc: 0.99949 |  0:01:16s\n",
            "epoch 89 | loss: 0.01922 | train_auc: 0.99994 | valid_auc: 0.99945 |  0:01:17s\n",
            "epoch 90 | loss: 0.01948 | train_auc: 0.9999  | valid_auc: 0.99932 |  0:01:18s\n",
            "epoch 91 | loss: 0.01978 | train_auc: 0.99977 | valid_auc: 0.99936 |  0:01:18s\n",
            "epoch 92 | loss: 0.01799 | train_auc: 0.99993 | valid_auc: 0.99942 |  0:01:19s\n",
            "epoch 93 | loss: 0.0178  | train_auc: 0.9999  | valid_auc: 0.99936 |  0:01:20s\n",
            "epoch 94 | loss: 0.01598 | train_auc: 0.99992 | valid_auc: 0.99944 |  0:01:20s\n",
            "epoch 95 | loss: 0.01867 | train_auc: 0.99991 | valid_auc: 0.99938 |  0:01:21s\n",
            "epoch 96 | loss: 0.01928 | train_auc: 0.99992 | valid_auc: 0.9994  |  0:01:21s\n",
            "epoch 97 | loss: 0.02207 | train_auc: 0.99993 | valid_auc: 0.99923 |  0:01:22s\n",
            "epoch 98 | loss: 0.01533 | train_auc: 0.99993 | valid_auc: 0.99912 |  0:01:23s\n",
            "epoch 99 | loss: 0.01905 | train_auc: 0.99993 | valid_auc: 0.9993  |  0:01:24s\n",
            "epoch 100| loss: 0.01816 | train_auc: 0.99994 | valid_auc: 0.99936 |  0:01:25s\n",
            "epoch 101| loss: 0.02063 | train_auc: 0.99995 | valid_auc: 0.99933 |  0:01:26s\n",
            "epoch 102| loss: 0.01427 | train_auc: 0.99996 | valid_auc: 0.99925 |  0:01:27s\n",
            "epoch 103| loss: 0.01371 | train_auc: 0.99996 | valid_auc: 0.99931 |  0:01:28s\n",
            "epoch 104| loss: 0.01678 | train_auc: 0.99995 | valid_auc: 0.99938 |  0:01:28s\n",
            "epoch 105| loss: 0.01375 | train_auc: 0.99995 | valid_auc: 0.99939 |  0:01:29s\n",
            "epoch 106| loss: 0.01863 | train_auc: 0.99995 | valid_auc: 0.99942 |  0:01:30s\n",
            "epoch 107| loss: 0.01434 | train_auc: 0.99996 | valid_auc: 0.99929 |  0:01:31s\n",
            "epoch 108| loss: 0.01845 | train_auc: 0.99995 | valid_auc: 0.99942 |  0:01:31s\n",
            "epoch 109| loss: 0.01784 | train_auc: 0.99995 | valid_auc: 0.99939 |  0:01:32s\n",
            "epoch 110| loss: 0.01351 | train_auc: 0.99996 | valid_auc: 0.99934 |  0:01:33s\n",
            "epoch 111| loss: 0.01673 | train_auc: 0.99996 | valid_auc: 0.99939 |  0:01:33s\n",
            "epoch 112| loss: 0.01965 | train_auc: 0.99996 | valid_auc: 0.99941 |  0:01:34s\n",
            "\n",
            "Early stopping occurred at epoch 112 with best_epoch = 62 and best_valid_auc = 0.99964\n"
          ]
        }
      ]
    },
    {
      "cell_type": "code",
      "source": [
        "X_train"
      ],
      "metadata": {
        "colab": {
          "base_uri": "https://localhost:8080/"
        },
        "id": "Z-cmlPttQUyN",
        "outputId": "0efb1dbc-3cca-4b85-8b42-42cfa9866749"
      },
      "execution_count": 10,
      "outputs": [
        {
          "output_type": "execute_result",
          "data": {
            "text/plain": [
              "array([[1.        , 0.        , 0.        , ..., 4.29210182, 6.76365441,\n",
              "        1.16504887],\n",
              "       [0.        , 1.        , 1.        , ..., 5.36433134, 6.68985993,\n",
              "        3.03068498],\n",
              "       [0.        , 1.        , 0.        , ..., 6.48908517, 6.74963239,\n",
              "        1.5489868 ],\n",
              "       ...,\n",
              "       [0.        , 0.        , 0.        , ..., 3.05138744, 1.91050571,\n",
              "        1.77369286],\n",
              "       [0.        , 0.        , 1.        , ..., 3.0990486 , 6.11730503,\n",
              "        2.98077843],\n",
              "       [1.        , 1.        , 0.        , ..., 6.1250315 , 5.37804182,\n",
              "        4.21148269]])"
            ]
          },
          "metadata": {},
          "execution_count": 10
        }
      ]
    },
    {
      "cell_type": "code",
      "source": [
        "target = 'Diagnosis'    # 41번째 컬럼\n",
        "if \"Set\" not in test.columns:\n",
        "    test[\"Set\"] = np.random.choice([\"test\"], p =[1], size=(test.shape[0],))\n",
        "\n",
        "test_indices = test[test.Set==\"test\"].index"
      ],
      "metadata": {
        "id": "yK84WJ2XRLnV"
      },
      "execution_count": 11,
      "outputs": []
    },
    {
      "cell_type": "code",
      "source": [
        "nunique = test.nunique()\n",
        "types = test.dtypes\n",
        "\n",
        "categorical_columns = []\n",
        "categorical_dims =  {}\n",
        "for col in test.columns:\n",
        "    if types[col] == 'object' or nunique[col] < 200:\n",
        "        print(col, test[col].nunique())\n",
        "        l_enc = LabelEncoder()\n",
        "        test[col] = test[col].fillna(\"VV_likely\")\n",
        "        test[col] = l_enc.fit_transform(test[col].values)\n",
        "        categorical_columns.append(col)\n",
        "        categorical_dims[col] = len(l_enc.classes_)\n",
        "    else:\n",
        "        test.fillna(test.loc[test_indices, col].mean(), inplace=True)\n",
        "\n",
        "\n",
        "# Categorical Embedding을 위해 Categorical 변수의 차원과 idxs를 담음.\n",
        "# unused_feat = ['Set']\n",
        "unused_feat = ['Set','Income','Passive','Sleep','Appetite']\n",
        "features = [ col for col in test.columns if col not in unused_feat+[target]]\n",
        "cat_idxs = [ i for i, f in enumerate(features) if f in categorical_columns]\n",
        "cat_dims = [ categorical_dims[f] for i, f in enumerate(features) if f in categorical_columns]"
      ],
      "metadata": {
        "colab": {
          "base_uri": "https://localhost:8080/"
        },
        "id": "CbStaVFDRiSt",
        "outputId": "31172f07-8ebf-4982-e27d-6ffeedc2cd33"
      },
      "execution_count": 12,
      "outputs": [
        {
          "output_type": "stream",
          "name": "stdout",
          "text": [
            "Diagnosis 2\n",
            "Sex 2\n",
            "Race 2\n",
            "Housing 2\n",
            "Delay 2\n",
            "Set 1\n"
          ]
        }
      ]
    },
    {
      "cell_type": "code",
      "source": [
        "X_test = test[features].values[test_indices]\n",
        "y_test = test[target].values[test_indices]"
      ],
      "metadata": {
        "id": "rOk6fz72Rlq5"
      },
      "execution_count": 13,
      "outputs": []
    },
    {
      "cell_type": "code",
      "source": [
        "preds = clf.predict_proba(X_test)\n",
        "test_auc = roc_auc_score(y_score=preds[:,1], y_true=y_test)"
      ],
      "metadata": {
        "id": "H64L9dxTS7T5"
      },
      "execution_count": 14,
      "outputs": []
    },
    {
      "cell_type": "code",
      "source": [
        "test_auc"
      ],
      "metadata": {
        "colab": {
          "base_uri": "https://localhost:8080/"
        },
        "id": "e76u4dZ8TDnR",
        "outputId": "fd3ea5c2-72c0-4904-9cb3-cf0864f1ce93"
      },
      "execution_count": 15,
      "outputs": [
        {
          "output_type": "execute_result",
          "data": {
            "text/plain": [
              "0.9968586949342845"
            ]
          },
          "metadata": {},
          "execution_count": 15
        }
      ]
    },
    {
      "cell_type": "code",
      "source": [
        "preds = clf.predict(X_test)"
      ],
      "metadata": {
        "id": "fcRtC5-NTP9x"
      },
      "execution_count": 16,
      "outputs": []
    },
    {
      "cell_type": "code",
      "source": [
        "from sklearn.metrics import accuracy_score"
      ],
      "metadata": {
        "id": "n8-oovDCTvUp"
      },
      "execution_count": 17,
      "outputs": []
    },
    {
      "cell_type": "code",
      "source": [
        "accuracy=accuracy_score(y_test, preds)"
      ],
      "metadata": {
        "id": "R35yW8E1Ti-T"
      },
      "execution_count": 18,
      "outputs": []
    },
    {
      "cell_type": "code",
      "source": [
        "accuracy"
      ],
      "metadata": {
        "colab": {
          "base_uri": "https://localhost:8080/"
        },
        "id": "Zc6MEJL5TwLI",
        "outputId": "11fbf883-8360-4a0e-f0f1-4cf9d9f20d40"
      },
      "execution_count": 19,
      "outputs": [
        {
          "output_type": "execute_result",
          "data": {
            "text/plain": [
              "0.987"
            ]
          },
          "metadata": {},
          "execution_count": 19
        }
      ]
    },
    {
      "cell_type": "code",
      "source": [],
      "metadata": {
        "id": "jXqEWOCdTy15"
      },
      "execution_count": 19,
      "outputs": []
    }
  ]
}