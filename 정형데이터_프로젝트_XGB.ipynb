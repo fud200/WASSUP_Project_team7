{
  "nbformat": 4,
  "nbformat_minor": 0,
  "metadata": {
    "colab": {
      "provenance": [],
      "authorship_tag": "ABX9TyNKdGvOFS7QH34314jvXFZn"
    },
    "kernelspec": {
      "name": "python3",
      "display_name": "Python 3"
    },
    "language_info": {
      "name": "python"
    }
  },
  "cells": [
    {
      "cell_type": "code",
      "execution_count": 1,
      "metadata": {
        "id": "3x0vTPecCyrL"
      },
      "outputs": [],
      "source": [
        "import numpy as np\n",
        "import pandas as pd\n",
        "import matplotlib.pyplot as plt\n",
        "import seaborn as sns\n",
        "from sklearn.model_selection import train_test_split\n",
        "import random\n",
        "import warnings\n",
        "\n",
        "warnings.filterwarnings(action='ignore')"
      ]
    },
    {
      "cell_type": "code",
      "source": [
        "train_data = pd.read_csv('/content/removed_train1.csv')\n",
        "test_data = pd.read_csv('/content/removed_test1.csv')"
      ],
      "metadata": {
        "id": "gi8J1fVYC3ue"
      },
      "execution_count": 12,
      "outputs": []
    },
    {
      "cell_type": "code",
      "source": [
        "train_data.head()"
      ],
      "metadata": {
        "colab": {
          "base_uri": "https://localhost:8080/",
          "height": 226
        },
        "id": "_VChOeCcDEQH",
        "outputId": "a5af8980-b3ab-4aba-9389-f4978083c177"
      },
      "execution_count": 3,
      "outputs": [
        {
          "output_type": "execute_result",
          "data": {
            "text/plain": [
              "   Diagnosis  Sex  Housing  Delay  Anhedonia   DepMood     Tired  Rumination  \\\n",
              "0          1    0        1      0   5.776834  7.945197  5.821416    5.990781   \n",
              "1          0    0        1      0   7.298161  8.605159  6.657438    4.740278   \n",
              "2          0    1        1      1   7.440324  6.482757  5.483178    7.980671   \n",
              "3          1    0        1      1   7.655051  6.159573  5.310127    3.445936   \n",
              "4          1    0        1      0   6.792071  7.356555  5.632825    4.558195   \n",
              "\n",
              "   Concentration  Psychomotor  Delusion  Suspicious  Withdrawal   Tension  \\\n",
              "0       5.843773     3.682413  3.544660    1.396333    4.292102  6.763654   \n",
              "1       6.033697     5.381531  2.077573    2.520095    2.950640  3.009537   \n",
              "2       6.172174     6.222733  3.657648    2.413774    3.979344  6.749632   \n",
              "3       8.724369     4.631259  3.452163    4.862946    3.967482  6.034795   \n",
              "4       7.524505     5.409327  1.955426    5.325726    3.520632  6.984951   \n",
              "\n",
              "   UnusualThought  Is_Black  Psych_Stress  \n",
              "0        1.165049         0          -1.3  \n",
              "1        1.635291         0          -1.0  \n",
              "2        1.548987         1          -2.8  \n",
              "3        3.502844         0           3.5  \n",
              "4        2.663967         0           0.1  "
            ],
            "text/html": [
              "\n",
              "  <div id=\"df-db0600b0-5e81-4aa3-a7fa-2f3d379027e0\" class=\"colab-df-container\">\n",
              "    <div>\n",
              "<style scoped>\n",
              "    .dataframe tbody tr th:only-of-type {\n",
              "        vertical-align: middle;\n",
              "    }\n",
              "\n",
              "    .dataframe tbody tr th {\n",
              "        vertical-align: top;\n",
              "    }\n",
              "\n",
              "    .dataframe thead th {\n",
              "        text-align: right;\n",
              "    }\n",
              "</style>\n",
              "<table border=\"1\" class=\"dataframe\">\n",
              "  <thead>\n",
              "    <tr style=\"text-align: right;\">\n",
              "      <th></th>\n",
              "      <th>Diagnosis</th>\n",
              "      <th>Sex</th>\n",
              "      <th>Housing</th>\n",
              "      <th>Delay</th>\n",
              "      <th>Anhedonia</th>\n",
              "      <th>DepMood</th>\n",
              "      <th>Tired</th>\n",
              "      <th>Rumination</th>\n",
              "      <th>Concentration</th>\n",
              "      <th>Psychomotor</th>\n",
              "      <th>Delusion</th>\n",
              "      <th>Suspicious</th>\n",
              "      <th>Withdrawal</th>\n",
              "      <th>Tension</th>\n",
              "      <th>UnusualThought</th>\n",
              "      <th>Is_Black</th>\n",
              "      <th>Psych_Stress</th>\n",
              "    </tr>\n",
              "  </thead>\n",
              "  <tbody>\n",
              "    <tr>\n",
              "      <th>0</th>\n",
              "      <td>1</td>\n",
              "      <td>0</td>\n",
              "      <td>1</td>\n",
              "      <td>0</td>\n",
              "      <td>5.776834</td>\n",
              "      <td>7.945197</td>\n",
              "      <td>5.821416</td>\n",
              "      <td>5.990781</td>\n",
              "      <td>5.843773</td>\n",
              "      <td>3.682413</td>\n",
              "      <td>3.544660</td>\n",
              "      <td>1.396333</td>\n",
              "      <td>4.292102</td>\n",
              "      <td>6.763654</td>\n",
              "      <td>1.165049</td>\n",
              "      <td>0</td>\n",
              "      <td>-1.3</td>\n",
              "    </tr>\n",
              "    <tr>\n",
              "      <th>1</th>\n",
              "      <td>0</td>\n",
              "      <td>0</td>\n",
              "      <td>1</td>\n",
              "      <td>0</td>\n",
              "      <td>7.298161</td>\n",
              "      <td>8.605159</td>\n",
              "      <td>6.657438</td>\n",
              "      <td>4.740278</td>\n",
              "      <td>6.033697</td>\n",
              "      <td>5.381531</td>\n",
              "      <td>2.077573</td>\n",
              "      <td>2.520095</td>\n",
              "      <td>2.950640</td>\n",
              "      <td>3.009537</td>\n",
              "      <td>1.635291</td>\n",
              "      <td>0</td>\n",
              "      <td>-1.0</td>\n",
              "    </tr>\n",
              "    <tr>\n",
              "      <th>2</th>\n",
              "      <td>0</td>\n",
              "      <td>1</td>\n",
              "      <td>1</td>\n",
              "      <td>1</td>\n",
              "      <td>7.440324</td>\n",
              "      <td>6.482757</td>\n",
              "      <td>5.483178</td>\n",
              "      <td>7.980671</td>\n",
              "      <td>6.172174</td>\n",
              "      <td>6.222733</td>\n",
              "      <td>3.657648</td>\n",
              "      <td>2.413774</td>\n",
              "      <td>3.979344</td>\n",
              "      <td>6.749632</td>\n",
              "      <td>1.548987</td>\n",
              "      <td>1</td>\n",
              "      <td>-2.8</td>\n",
              "    </tr>\n",
              "    <tr>\n",
              "      <th>3</th>\n",
              "      <td>1</td>\n",
              "      <td>0</td>\n",
              "      <td>1</td>\n",
              "      <td>1</td>\n",
              "      <td>7.655051</td>\n",
              "      <td>6.159573</td>\n",
              "      <td>5.310127</td>\n",
              "      <td>3.445936</td>\n",
              "      <td>8.724369</td>\n",
              "      <td>4.631259</td>\n",
              "      <td>3.452163</td>\n",
              "      <td>4.862946</td>\n",
              "      <td>3.967482</td>\n",
              "      <td>6.034795</td>\n",
              "      <td>3.502844</td>\n",
              "      <td>0</td>\n",
              "      <td>3.5</td>\n",
              "    </tr>\n",
              "    <tr>\n",
              "      <th>4</th>\n",
              "      <td>1</td>\n",
              "      <td>0</td>\n",
              "      <td>1</td>\n",
              "      <td>0</td>\n",
              "      <td>6.792071</td>\n",
              "      <td>7.356555</td>\n",
              "      <td>5.632825</td>\n",
              "      <td>4.558195</td>\n",
              "      <td>7.524505</td>\n",
              "      <td>5.409327</td>\n",
              "      <td>1.955426</td>\n",
              "      <td>5.325726</td>\n",
              "      <td>3.520632</td>\n",
              "      <td>6.984951</td>\n",
              "      <td>2.663967</td>\n",
              "      <td>0</td>\n",
              "      <td>0.1</td>\n",
              "    </tr>\n",
              "  </tbody>\n",
              "</table>\n",
              "</div>\n",
              "    <div class=\"colab-df-buttons\">\n",
              "\n",
              "  <div class=\"colab-df-container\">\n",
              "    <button class=\"colab-df-convert\" onclick=\"convertToInteractive('df-db0600b0-5e81-4aa3-a7fa-2f3d379027e0')\"\n",
              "            title=\"Convert this dataframe to an interactive table.\"\n",
              "            style=\"display:none;\">\n",
              "\n",
              "  <svg xmlns=\"http://www.w3.org/2000/svg\" height=\"24px\" viewBox=\"0 -960 960 960\">\n",
              "    <path d=\"M120-120v-720h720v720H120Zm60-500h600v-160H180v160Zm220 220h160v-160H400v160Zm0 220h160v-160H400v160ZM180-400h160v-160H180v160Zm440 0h160v-160H620v160ZM180-180h160v-160H180v160Zm440 0h160v-160H620v160Z\"/>\n",
              "  </svg>\n",
              "    </button>\n",
              "\n",
              "  <style>\n",
              "    .colab-df-container {\n",
              "      display:flex;\n",
              "      gap: 12px;\n",
              "    }\n",
              "\n",
              "    .colab-df-convert {\n",
              "      background-color: #E8F0FE;\n",
              "      border: none;\n",
              "      border-radius: 50%;\n",
              "      cursor: pointer;\n",
              "      display: none;\n",
              "      fill: #1967D2;\n",
              "      height: 32px;\n",
              "      padding: 0 0 0 0;\n",
              "      width: 32px;\n",
              "    }\n",
              "\n",
              "    .colab-df-convert:hover {\n",
              "      background-color: #E2EBFA;\n",
              "      box-shadow: 0px 1px 2px rgba(60, 64, 67, 0.3), 0px 1px 3px 1px rgba(60, 64, 67, 0.15);\n",
              "      fill: #174EA6;\n",
              "    }\n",
              "\n",
              "    .colab-df-buttons div {\n",
              "      margin-bottom: 4px;\n",
              "    }\n",
              "\n",
              "    [theme=dark] .colab-df-convert {\n",
              "      background-color: #3B4455;\n",
              "      fill: #D2E3FC;\n",
              "    }\n",
              "\n",
              "    [theme=dark] .colab-df-convert:hover {\n",
              "      background-color: #434B5C;\n",
              "      box-shadow: 0px 1px 3px 1px rgba(0, 0, 0, 0.15);\n",
              "      filter: drop-shadow(0px 1px 2px rgba(0, 0, 0, 0.3));\n",
              "      fill: #FFFFFF;\n",
              "    }\n",
              "  </style>\n",
              "\n",
              "    <script>\n",
              "      const buttonEl =\n",
              "        document.querySelector('#df-db0600b0-5e81-4aa3-a7fa-2f3d379027e0 button.colab-df-convert');\n",
              "      buttonEl.style.display =\n",
              "        google.colab.kernel.accessAllowed ? 'block' : 'none';\n",
              "\n",
              "      async function convertToInteractive(key) {\n",
              "        const element = document.querySelector('#df-db0600b0-5e81-4aa3-a7fa-2f3d379027e0');\n",
              "        const dataTable =\n",
              "          await google.colab.kernel.invokeFunction('convertToInteractive',\n",
              "                                                    [key], {});\n",
              "        if (!dataTable) return;\n",
              "\n",
              "        const docLinkHtml = 'Like what you see? Visit the ' +\n",
              "          '<a target=\"_blank\" href=https://colab.research.google.com/notebooks/data_table.ipynb>data table notebook</a>'\n",
              "          + ' to learn more about interactive tables.';\n",
              "        element.innerHTML = '';\n",
              "        dataTable['output_type'] = 'display_data';\n",
              "        await google.colab.output.renderOutput(dataTable, element);\n",
              "        const docLink = document.createElement('div');\n",
              "        docLink.innerHTML = docLinkHtml;\n",
              "        element.appendChild(docLink);\n",
              "      }\n",
              "    </script>\n",
              "  </div>\n",
              "\n",
              "\n",
              "<div id=\"df-ac1c440b-eacc-4fbf-80aa-a1146f993c31\">\n",
              "  <button class=\"colab-df-quickchart\" onclick=\"quickchart('df-ac1c440b-eacc-4fbf-80aa-a1146f993c31')\"\n",
              "            title=\"Suggest charts\"\n",
              "            style=\"display:none;\">\n",
              "\n",
              "<svg xmlns=\"http://www.w3.org/2000/svg\" height=\"24px\"viewBox=\"0 0 24 24\"\n",
              "     width=\"24px\">\n",
              "    <g>\n",
              "        <path d=\"M19 3H5c-1.1 0-2 .9-2 2v14c0 1.1.9 2 2 2h14c1.1 0 2-.9 2-2V5c0-1.1-.9-2-2-2zM9 17H7v-7h2v7zm4 0h-2V7h2v10zm4 0h-2v-4h2v4z\"/>\n",
              "    </g>\n",
              "</svg>\n",
              "  </button>\n",
              "\n",
              "<style>\n",
              "  .colab-df-quickchart {\n",
              "      --bg-color: #E8F0FE;\n",
              "      --fill-color: #1967D2;\n",
              "      --hover-bg-color: #E2EBFA;\n",
              "      --hover-fill-color: #174EA6;\n",
              "      --disabled-fill-color: #AAA;\n",
              "      --disabled-bg-color: #DDD;\n",
              "  }\n",
              "\n",
              "  [theme=dark] .colab-df-quickchart {\n",
              "      --bg-color: #3B4455;\n",
              "      --fill-color: #D2E3FC;\n",
              "      --hover-bg-color: #434B5C;\n",
              "      --hover-fill-color: #FFFFFF;\n",
              "      --disabled-bg-color: #3B4455;\n",
              "      --disabled-fill-color: #666;\n",
              "  }\n",
              "\n",
              "  .colab-df-quickchart {\n",
              "    background-color: var(--bg-color);\n",
              "    border: none;\n",
              "    border-radius: 50%;\n",
              "    cursor: pointer;\n",
              "    display: none;\n",
              "    fill: var(--fill-color);\n",
              "    height: 32px;\n",
              "    padding: 0;\n",
              "    width: 32px;\n",
              "  }\n",
              "\n",
              "  .colab-df-quickchart:hover {\n",
              "    background-color: var(--hover-bg-color);\n",
              "    box-shadow: 0 1px 2px rgba(60, 64, 67, 0.3), 0 1px 3px 1px rgba(60, 64, 67, 0.15);\n",
              "    fill: var(--button-hover-fill-color);\n",
              "  }\n",
              "\n",
              "  .colab-df-quickchart-complete:disabled,\n",
              "  .colab-df-quickchart-complete:disabled:hover {\n",
              "    background-color: var(--disabled-bg-color);\n",
              "    fill: var(--disabled-fill-color);\n",
              "    box-shadow: none;\n",
              "  }\n",
              "\n",
              "  .colab-df-spinner {\n",
              "    border: 2px solid var(--fill-color);\n",
              "    border-color: transparent;\n",
              "    border-bottom-color: var(--fill-color);\n",
              "    animation:\n",
              "      spin 1s steps(1) infinite;\n",
              "  }\n",
              "\n",
              "  @keyframes spin {\n",
              "    0% {\n",
              "      border-color: transparent;\n",
              "      border-bottom-color: var(--fill-color);\n",
              "      border-left-color: var(--fill-color);\n",
              "    }\n",
              "    20% {\n",
              "      border-color: transparent;\n",
              "      border-left-color: var(--fill-color);\n",
              "      border-top-color: var(--fill-color);\n",
              "    }\n",
              "    30% {\n",
              "      border-color: transparent;\n",
              "      border-left-color: var(--fill-color);\n",
              "      border-top-color: var(--fill-color);\n",
              "      border-right-color: var(--fill-color);\n",
              "    }\n",
              "    40% {\n",
              "      border-color: transparent;\n",
              "      border-right-color: var(--fill-color);\n",
              "      border-top-color: var(--fill-color);\n",
              "    }\n",
              "    60% {\n",
              "      border-color: transparent;\n",
              "      border-right-color: var(--fill-color);\n",
              "    }\n",
              "    80% {\n",
              "      border-color: transparent;\n",
              "      border-right-color: var(--fill-color);\n",
              "      border-bottom-color: var(--fill-color);\n",
              "    }\n",
              "    90% {\n",
              "      border-color: transparent;\n",
              "      border-bottom-color: var(--fill-color);\n",
              "    }\n",
              "  }\n",
              "</style>\n",
              "\n",
              "  <script>\n",
              "    async function quickchart(key) {\n",
              "      const quickchartButtonEl =\n",
              "        document.querySelector('#' + key + ' button');\n",
              "      quickchartButtonEl.disabled = true;  // To prevent multiple clicks.\n",
              "      quickchartButtonEl.classList.add('colab-df-spinner');\n",
              "      try {\n",
              "        const charts = await google.colab.kernel.invokeFunction(\n",
              "            'suggestCharts', [key], {});\n",
              "      } catch (error) {\n",
              "        console.error('Error during call to suggestCharts:', error);\n",
              "      }\n",
              "      quickchartButtonEl.classList.remove('colab-df-spinner');\n",
              "      quickchartButtonEl.classList.add('colab-df-quickchart-complete');\n",
              "    }\n",
              "    (() => {\n",
              "      let quickchartButtonEl =\n",
              "        document.querySelector('#df-ac1c440b-eacc-4fbf-80aa-a1146f993c31 button');\n",
              "      quickchartButtonEl.style.display =\n",
              "        google.colab.kernel.accessAllowed ? 'block' : 'none';\n",
              "    })();\n",
              "  </script>\n",
              "</div>\n",
              "\n",
              "    </div>\n",
              "  </div>\n"
            ],
            "application/vnd.google.colaboratory.intrinsic+json": {
              "type": "dataframe",
              "variable_name": "train_data",
              "summary": "{\n  \"name\": \"train_data\",\n  \"rows\": 7635,\n  \"fields\": [\n    {\n      \"column\": \"Diagnosis\",\n      \"properties\": {\n        \"dtype\": \"number\",\n        \"std\": 0,\n        \"min\": 0,\n        \"max\": 1,\n        \"num_unique_values\": 2,\n        \"samples\": [\n          0,\n          1\n        ],\n        \"semantic_type\": \"\",\n        \"description\": \"\"\n      }\n    },\n    {\n      \"column\": \"Sex\",\n      \"properties\": {\n        \"dtype\": \"number\",\n        \"std\": 0,\n        \"min\": 0,\n        \"max\": 1,\n        \"num_unique_values\": 2,\n        \"samples\": [\n          1,\n          0\n        ],\n        \"semantic_type\": \"\",\n        \"description\": \"\"\n      }\n    },\n    {\n      \"column\": \"Housing\",\n      \"properties\": {\n        \"dtype\": \"number\",\n        \"std\": 0,\n        \"min\": 0,\n        \"max\": 1,\n        \"num_unique_values\": 2,\n        \"samples\": [\n          0,\n          1\n        ],\n        \"semantic_type\": \"\",\n        \"description\": \"\"\n      }\n    },\n    {\n      \"column\": \"Delay\",\n      \"properties\": {\n        \"dtype\": \"number\",\n        \"std\": 0,\n        \"min\": 0,\n        \"max\": 1,\n        \"num_unique_values\": 2,\n        \"samples\": [\n          1,\n          0\n        ],\n        \"semantic_type\": \"\",\n        \"description\": \"\"\n      }\n    },\n    {\n      \"column\": \"Anhedonia\",\n      \"properties\": {\n        \"dtype\": \"number\",\n        \"std\": 1.0472378554169421,\n        \"min\": 2.658870539,\n        \"max\": 9.921761437,\n        \"num_unique_values\": 7635,\n        \"samples\": [\n          6.476008764,\n          5.961720066\n        ],\n        \"semantic_type\": \"\",\n        \"description\": \"\"\n      }\n    },\n    {\n      \"column\": \"DepMood\",\n      \"properties\": {\n        \"dtype\": \"number\",\n        \"std\": 1.074217864637243,\n        \"min\": 3.007422192,\n        \"max\": 9.996645433,\n        \"num_unique_values\": 7635,\n        \"samples\": [\n          8.712463685,\n          8.98921361\n        ],\n        \"semantic_type\": \"\",\n        \"description\": \"\"\n      }\n    },\n    {\n      \"column\": \"Tired\",\n      \"properties\": {\n        \"dtype\": \"number\",\n        \"std\": 1.039648045338368,\n        \"min\": 1.449468772,\n        \"max\": 9.019050492,\n        \"num_unique_values\": 7635,\n        \"samples\": [\n          5.221714666,\n          4.804829282\n        ],\n        \"semantic_type\": \"\",\n        \"description\": \"\"\n      }\n    },\n    {\n      \"column\": \"Rumination\",\n      \"properties\": {\n        \"dtype\": \"number\",\n        \"std\": 1.8423286914988592,\n        \"min\": 0.901894379,\n        \"max\": 9.978453974,\n        \"num_unique_values\": 7635,\n        \"samples\": [\n          5.042543925,\n          4.141447122\n        ],\n        \"semantic_type\": \"\",\n        \"description\": \"\"\n      }\n    },\n    {\n      \"column\": \"Concentration\",\n      \"properties\": {\n        \"dtype\": \"number\",\n        \"std\": 1.0386265079935764,\n        \"min\": 2.583934963,\n        \"max\": 9.857221267,\n        \"num_unique_values\": 7635,\n        \"samples\": [\n          7.322700552,\n          8.108773509\n        ],\n        \"semantic_type\": \"\",\n        \"description\": \"\"\n      }\n    },\n    {\n      \"column\": \"Psychomotor\",\n      \"properties\": {\n        \"dtype\": \"number\",\n        \"std\": 1.0553863769175484,\n        \"min\": 0.926129386,\n        \"max\": 8.773658345,\n        \"num_unique_values\": 7635,\n        \"samples\": [\n          4.482339715,\n          3.134760054\n        ],\n        \"semantic_type\": \"\",\n        \"description\": \"\"\n      }\n    },\n    {\n      \"column\": \"Delusion\",\n      \"properties\": {\n        \"dtype\": \"number\",\n        \"std\": 0.9709229028807246,\n        \"min\": 1.00002222,\n        \"max\": 6.128789303,\n        \"num_unique_values\": 7243,\n        \"samples\": [\n          1.635071889,\n          1.911322295\n        ],\n        \"semantic_type\": \"\",\n        \"description\": \"\"\n      }\n    },\n    {\n      \"column\": \"Suspicious\",\n      \"properties\": {\n        \"dtype\": \"number\",\n        \"std\": 1.0018470892303883,\n        \"min\": 1.000628995,\n        \"max\": 6.777155198,\n        \"num_unique_values\": 7635,\n        \"samples\": [\n          2.988106498,\n          3.158464066\n        ],\n        \"semantic_type\": \"\",\n        \"description\": \"\"\n      }\n    },\n    {\n      \"column\": \"Withdrawal\",\n      \"properties\": {\n        \"dtype\": \"number\",\n        \"std\": 1.0172919402477167,\n        \"min\": 1.015540983,\n        \"max\": 6.996624098,\n        \"num_unique_values\": 7196,\n        \"samples\": [\n          3.533773039,\n          3.585160725\n        ],\n        \"semantic_type\": \"\",\n        \"description\": \"\"\n      }\n    },\n    {\n      \"column\": \"Tension\",\n      \"properties\": {\n        \"dtype\": \"number\",\n        \"std\": 1.6657882930415628,\n        \"min\": 1.004944293,\n        \"max\": 6.999820269,\n        \"num_unique_values\": 7634,\n        \"samples\": [\n          4.94132142,\n          5.129838975\n        ],\n        \"semantic_type\": \"\",\n        \"description\": \"\"\n      }\n    },\n    {\n      \"column\": \"UnusualThought\",\n      \"properties\": {\n        \"dtype\": \"number\",\n        \"std\": 0.9121442206252413,\n        \"min\": 1.000686476,\n        \"max\": 6.249697552,\n        \"num_unique_values\": 7635,\n        \"samples\": [\n          3.648424528,\n          4.45556816\n        ],\n        \"semantic_type\": \"\",\n        \"description\": \"\"\n      }\n    },\n    {\n      \"column\": \"Is_Black\",\n      \"properties\": {\n        \"dtype\": \"number\",\n        \"std\": 0,\n        \"min\": 0,\n        \"max\": 1,\n        \"num_unique_values\": 2,\n        \"samples\": [\n          1,\n          0\n        ],\n        \"semantic_type\": \"\",\n        \"description\": \"\"\n      }\n    },\n    {\n      \"column\": \"Psych_Stress\",\n      \"properties\": {\n        \"dtype\": \"number\",\n        \"std\": 2.891578024695684,\n        \"min\": -7.1,\n        \"max\": 7.1,\n        \"num_unique_values\": 137,\n        \"samples\": [\n          -4.3,\n          4.7\n        ],\n        \"semantic_type\": \"\",\n        \"description\": \"\"\n      }\n    }\n  ]\n}"
            }
          },
          "metadata": {},
          "execution_count": 3
        }
      ]
    },
    {
      "cell_type": "code",
      "source": [
        "train_data.info()"
      ],
      "metadata": {
        "colab": {
          "base_uri": "https://localhost:8080/"
        },
        "id": "dPqrJRnGDXTV",
        "outputId": "b0ed45a6-40b7-4976-d878-fead416788b6"
      },
      "execution_count": 4,
      "outputs": [
        {
          "output_type": "stream",
          "name": "stdout",
          "text": [
            "<class 'pandas.core.frame.DataFrame'>\n",
            "RangeIndex: 7635 entries, 0 to 7634\n",
            "Data columns (total 17 columns):\n",
            " #   Column          Non-Null Count  Dtype  \n",
            "---  ------          --------------  -----  \n",
            " 0   Diagnosis       7635 non-null   int64  \n",
            " 1   Sex             7635 non-null   int64  \n",
            " 2   Housing         7635 non-null   int64  \n",
            " 3   Delay           7635 non-null   int64  \n",
            " 4   Anhedonia       7635 non-null   float64\n",
            " 5   DepMood         7635 non-null   float64\n",
            " 6   Tired           7635 non-null   float64\n",
            " 7   Rumination      7635 non-null   float64\n",
            " 8   Concentration   7635 non-null   float64\n",
            " 9   Psychomotor     7635 non-null   float64\n",
            " 10  Delusion        7635 non-null   float64\n",
            " 11  Suspicious      7635 non-null   float64\n",
            " 12  Withdrawal      7635 non-null   float64\n",
            " 13  Tension         7635 non-null   float64\n",
            " 14  UnusualThought  7635 non-null   float64\n",
            " 15  Is_Black        7635 non-null   int64  \n",
            " 16  Psych_Stress    7635 non-null   float64\n",
            "dtypes: float64(12), int64(5)\n",
            "memory usage: 1014.1 KB\n"
          ]
        }
      ]
    },
    {
      "cell_type": "code",
      "source": [
        "test_data.info()"
      ],
      "metadata": {
        "colab": {
          "base_uri": "https://localhost:8080/"
        },
        "id": "vFOzGHeGDal1",
        "outputId": "9fc62949-5873-4425-ceda-f5eb7a9a9add"
      },
      "execution_count": 5,
      "outputs": [
        {
          "output_type": "stream",
          "name": "stdout",
          "text": [
            "<class 'pandas.core.frame.DataFrame'>\n",
            "RangeIndex: 683 entries, 0 to 682\n",
            "Data columns (total 17 columns):\n",
            " #   Column          Non-Null Count  Dtype  \n",
            "---  ------          --------------  -----  \n",
            " 0   Diagnosis       683 non-null    int64  \n",
            " 1   Sex             683 non-null    int64  \n",
            " 2   Housing         683 non-null    int64  \n",
            " 3   Delay           683 non-null    int64  \n",
            " 4   Anhedonia       683 non-null    float64\n",
            " 5   DepMood         683 non-null    float64\n",
            " 6   Tired           683 non-null    float64\n",
            " 7   Rumination      683 non-null    float64\n",
            " 8   Concentration   683 non-null    float64\n",
            " 9   Psychomotor     683 non-null    float64\n",
            " 10  Delusion        683 non-null    float64\n",
            " 11  Suspicious      683 non-null    float64\n",
            " 12  Withdrawal      683 non-null    float64\n",
            " 13  Tension         683 non-null    float64\n",
            " 14  UnusualThought  683 non-null    float64\n",
            " 15  Is_Black        683 non-null    int64  \n",
            " 16  Psych_Stress    683 non-null    float64\n",
            "dtypes: float64(12), int64(5)\n",
            "memory usage: 90.8 KB\n"
          ]
        }
      ]
    },
    {
      "cell_type": "code",
      "source": [
        "X_train = train_data.drop(columns = ['Diagnosis'])\n",
        "X_test = test_data.drop(columns = ['Diagnosis'])\n",
        "\n",
        "y_train = train_data['Diagnosis']\n",
        "y_test = test_data['Diagnosis']"
      ],
      "metadata": {
        "id": "bQTj1rG4DGDl"
      },
      "execution_count": 13,
      "outputs": []
    },
    {
      "cell_type": "code",
      "source": [
        "X_train.info()"
      ],
      "metadata": {
        "colab": {
          "base_uri": "https://localhost:8080/"
        },
        "id": "yvbwH8RyEr5l",
        "outputId": "a043b4fb-e9aa-4748-de85-93848df854e7"
      },
      "execution_count": 9,
      "outputs": [
        {
          "output_type": "stream",
          "name": "stdout",
          "text": [
            "<class 'pandas.core.frame.DataFrame'>\n",
            "RangeIndex: 7635 entries, 0 to 7634\n",
            "Data columns (total 16 columns):\n",
            " #   Column          Non-Null Count  Dtype  \n",
            "---  ------          --------------  -----  \n",
            " 0   Sex             7635 non-null   int64  \n",
            " 1   Housing         7635 non-null   int64  \n",
            " 2   Delay           7635 non-null   int64  \n",
            " 3   Anhedonia       7635 non-null   float64\n",
            " 4   DepMood         7635 non-null   float64\n",
            " 5   Tired           7635 non-null   float64\n",
            " 6   Rumination      7635 non-null   float64\n",
            " 7   Concentration   7635 non-null   float64\n",
            " 8   Psychomotor     7635 non-null   float64\n",
            " 9   Delusion        7635 non-null   float64\n",
            " 10  Suspicious      7635 non-null   float64\n",
            " 11  Withdrawal      7635 non-null   float64\n",
            " 12  Tension         7635 non-null   float64\n",
            " 13  UnusualThought  7635 non-null   float64\n",
            " 14  Is_Black        7635 non-null   int64  \n",
            " 15  Psych_Stress    7635 non-null   float64\n",
            "dtypes: float64(12), int64(4)\n",
            "memory usage: 954.5 KB\n"
          ]
        }
      ]
    },
    {
      "cell_type": "code",
      "source": [
        "X_test.info()"
      ],
      "metadata": {
        "colab": {
          "base_uri": "https://localhost:8080/"
        },
        "id": "_VsIWsmkEwfd",
        "outputId": "f46263a1-0cae-4a0e-e8d3-7f5106607cba"
      },
      "execution_count": 10,
      "outputs": [
        {
          "output_type": "stream",
          "name": "stdout",
          "text": [
            "<class 'pandas.core.frame.DataFrame'>\n",
            "RangeIndex: 7635 entries, 0 to 7634\n",
            "Data columns (total 16 columns):\n",
            " #   Column          Non-Null Count  Dtype  \n",
            "---  ------          --------------  -----  \n",
            " 0   Sex             7635 non-null   int64  \n",
            " 1   Housing         7635 non-null   int64  \n",
            " 2   Delay           7635 non-null   int64  \n",
            " 3   Anhedonia       7635 non-null   float64\n",
            " 4   DepMood         7635 non-null   float64\n",
            " 5   Tired           7635 non-null   float64\n",
            " 6   Rumination      7635 non-null   float64\n",
            " 7   Concentration   7635 non-null   float64\n",
            " 8   Psychomotor     7635 non-null   float64\n",
            " 9   Delusion        7635 non-null   float64\n",
            " 10  Suspicious      7635 non-null   float64\n",
            " 11  Withdrawal      7635 non-null   float64\n",
            " 12  Tension         7635 non-null   float64\n",
            " 13  UnusualThought  7635 non-null   float64\n",
            " 14  Is_Black        7635 non-null   int64  \n",
            " 15  Psych_Stress    7635 non-null   float64\n",
            "dtypes: float64(12), int64(4)\n",
            "memory usage: 954.5 KB\n"
          ]
        }
      ]
    },
    {
      "cell_type": "code",
      "source": [
        "y_train.info()"
      ],
      "metadata": {
        "colab": {
          "base_uri": "https://localhost:8080/"
        },
        "id": "BsewCVxlEy8N",
        "outputId": "aa662fc9-1288-4de2-f7cb-cd22ae69bdf7"
      },
      "execution_count": 11,
      "outputs": [
        {
          "output_type": "stream",
          "name": "stdout",
          "text": [
            "<class 'pandas.core.series.Series'>\n",
            "RangeIndex: 7635 entries, 0 to 7634\n",
            "Series name: Diagnosis\n",
            "Non-Null Count  Dtype\n",
            "--------------  -----\n",
            "7635 non-null   int64\n",
            "dtypes: int64(1)\n",
            "memory usage: 59.8 KB\n"
          ]
        }
      ]
    },
    {
      "cell_type": "code",
      "source": [
        "import xgboost as xgb\n",
        "from sklearn.metrics import accuracy_score\n",
        "from sklearn.model_selection import KFold, cross_val_score"
      ],
      "metadata": {
        "id": "T0imFA2fDqS1"
      },
      "execution_count": 28,
      "outputs": []
    },
    {
      "cell_type": "code",
      "source": [
        "xgb_clf = xgb.XGBClassifier(n_estimators = 100, learning_rate = 0.1, max_depth = 7,\n",
        "                            use_label_encoder = False, eval_metric = 'mlogloss',\n",
        "                            gamma = 0)\n",
        "\n",
        "xgb_clf.fit(X_train, y_train)\n",
        "#모델 평가\n",
        "predictions = xgb_clf.predict(X_test)\n",
        "\n",
        "accuracy = accuracy_score(y_test, predictions)\n",
        "print(f'정확도 : {accuracy}')"
      ],
      "metadata": {
        "colab": {
          "base_uri": "https://localhost:8080/"
        },
        "id": "WH14TO7YDeTm",
        "outputId": "94519101-144a-43a8-85a3-fffe659f9685"
      },
      "execution_count": 27,
      "outputs": [
        {
          "output_type": "stream",
          "name": "stdout",
          "text": [
            "정확도 : 0.9897510980966325\n"
          ]
        }
      ]
    },
    {
      "cell_type": "code",
      "source": [
        "k_fold = KFold(n_splits = 5, shuffle = True, random_state = 42)\n",
        "scores = cross_val_score(xgb_clf, X_train, y_train, cv = k_fold)\n",
        "\n",
        "for i, score in enumerate(scores, 1):\n",
        "    print(f\"Fold {i} Score: {score}\")\n",
        "\n",
        "print(f\"Mean Score: {scores.mean()}\")"
      ],
      "metadata": {
        "colab": {
          "base_uri": "https://localhost:8080/"
        },
        "id": "C7lSeRmwEXD2",
        "outputId": "de8115f7-8275-4b95-8e32-3804fcc9f1be"
      },
      "execution_count": 30,
      "outputs": [
        {
          "output_type": "stream",
          "name": "stdout",
          "text": [
            "Fold 1 Score: 0.9908316961362148\n",
            "Fold 2 Score: 0.9869024230517355\n",
            "Fold 3 Score: 0.9862475442043221\n",
            "Fold 4 Score: 0.9855926653569089\n",
            "Fold 5 Score: 0.9862475442043221\n",
            "Mean Score: 0.9871643745907006\n"
          ]
        }
      ]
    },
    {
      "cell_type": "code",
      "source": [],
      "metadata": {
        "id": "2FlNrVsMLGF2"
      },
      "execution_count": null,
      "outputs": []
    }
  ]
}