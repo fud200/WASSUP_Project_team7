{
  "nbformat": 4,
  "nbformat_minor": 0,
  "metadata": {
    "colab": {
      "provenance": [],
      "authorship_tag": "ABX9TyN9sFz2BM+BsWmb/dOybZrL"
    },
    "kernelspec": {
      "name": "python3",
      "display_name": "Python 3"
    },
    "language_info": {
      "name": "python"
    }
  },
  "cells": [
    {
      "cell_type": "code",
      "execution_count": 7,
      "metadata": {
        "id": "LMAuibY1OiCX"
      },
      "outputs": [],
      "source": [
        "import pandas as pd\n",
        "from sklearn.model_selection import train_test_split\n",
        "from sklearn.ensemble import GradientBoostingClassifier\n",
        "from sklearn.metrics import confusion_matrix, accuracy_score, recall_score, precision_score, f1_score\n",
        "import matplotlib.pyplot as plt\n",
        "import seaborn as sns"
      ]
    },
    {
      "cell_type": "markdown",
      "source": [
        "### train.csv / test.csv"
      ],
      "metadata": {
        "id": "XdtMH25RTqU1"
      }
    },
    {
      "cell_type": "markdown",
      "source": [
        "##### Dataset Version 1"
      ],
      "metadata": {
        "id": "fEJA4VzMPDTs"
      }
    },
    {
      "cell_type": "code",
      "source": [
        "# Load dataset\n",
        "train_path = \"/content/removed_train1.csv\"\n",
        "test_path = \"/content/removed_test1.csv\"\n",
        "\n",
        "train_data = pd.read_csv(train_path)\n",
        "test_data = pd.read_csv(test_path)\n",
        "\n",
        "# Split the dataset into X and y\n",
        "X_train = train_data.drop('Diagnosis', axis=1)\n",
        "y_train = train_data['Diagnosis']\n",
        "\n",
        "X_test = test_data.drop('Diagnosis', axis=1)\n",
        "y_test = test_data['Diagnosis']\n",
        "\n",
        "# Initialize gradient boosting classifier\n",
        "gb_clf = GradientBoostingClassifier(n_estimators=100, max_depth=1, random_state=42)\n",
        "\n",
        "# Fit the model\n",
        "gb_clf.fit(X_train, y_train)\n",
        "\n",
        "# Predict the test dataset using model\n",
        "y_pred = gb_clf.predict(X_test)\n",
        "\n",
        "# Compute confusion matrix\n",
        "conf_matrix = confusion_matrix(y_test, y_pred)\n",
        "print(\"Confusion Matrix:\\n\", conf_matrix)\n",
        "\n",
        "# Visualize confusion matrix\n",
        "sns.heatmap(conf_matrix, annot=True, fmt=\"d\", cmap=\"Blues\", cbar=False)\n",
        "plt.xlabel(\"Predicted Label\")\n",
        "plt.ylabel(\"True Label\")\n",
        "plt.title(\"Confusion Matrix\")\n",
        "plt.show()\n",
        "\n",
        "# Extract true negatives (TN) and false positives (FP) from the confusion matrix\n",
        "TN = conf_matrix[0, 0]\n",
        "FP = conf_matrix[0, 1]\n",
        "\n",
        "# Calculate accuracy\n",
        "accuracy = accuracy_score(y_test, y_pred)\n",
        "print(\"Accuracy: {:.4f}\".format(accuracy))\n",
        "\n",
        "# Calculate precision\n",
        "precision = precision_score(y_test, y_pred)\n",
        "print(\"Precision: {:.4f}\".format(precision))\n",
        "\n",
        "# Calculate recall\n",
        "recall = recall_score(y_test, y_pred)\n",
        "print(\"Recall: {:.4f}\".format(recall))\n",
        "\n",
        "# Calculate specificity\n",
        "specificity = TN / (TN + FP)\n",
        "print(\"Specificity: {:.4f}\".format(specificity))\n",
        "\n",
        "# Calculate F1 score\n",
        "f1 = f1_score(y_test, y_pred)\n",
        "print(\"F1 score: {:.4f}\".format(f1))"
      ],
      "metadata": {
        "colab": {
          "base_uri": "https://localhost:8080/",
          "height": 622
        },
        "id": "90sf7t1YPGWf",
        "outputId": "395fef32-008e-4484-a6e7-97fb1d660057"
      },
      "execution_count": 2,
      "outputs": [
        {
          "output_type": "stream",
          "name": "stdout",
          "text": [
            "Confusion Matrix:\n",
            " [[317   5]\n",
            " [  7 354]]\n"
          ]
        },
        {
          "output_type": "display_data",
          "data": {
            "text/plain": [
              "<Figure size 640x480 with 1 Axes>"
            ],
            "image/png": "[encoded data removed]"
          },
          "metadata": {}
        },
        {
          "output_type": "stream",
          "name": "stdout",
          "text": [
            "Accuracy: 0.9824\n",
            "Precision: 0.9861\n",
            "Recall: 0.9806\n",
            "Specificity: 0.9845\n",
            "F1 score: 0.9833\n"
          ]
        }
      ]
    },
    {
      "cell_type": "markdown",
      "source": [
        "##### Dataset Version 2"
      ],
      "metadata": {
        "id": "clcstx9TPtXK"
      }
    },
    {
      "cell_type": "code",
      "source": [
        "# Load dataset\n",
        "train_path = \"/content/removed_train2.csv\"\n",
        "test_path = \"/content/removed_test2.csv\"\n",
        "\n",
        "train_data = pd.read_csv(train_path)\n",
        "test_data = pd.read_csv(test_path)\n",
        "\n",
        "# Split the dataset into X and y\n",
        "X_train = train_data.drop('Diagnosis', axis=1)\n",
        "y_train = train_data['Diagnosis']\n",
        "\n",
        "X_test = test_data.drop('Diagnosis', axis=1)\n",
        "y_test = test_data['Diagnosis']\n",
        "\n",
        "# Initialize gradient boosting classifier\n",
        "gb_clf = GradientBoostingClassifier(n_estimators=100, max_depth=1, random_state=42)\n",
        "\n",
        "# Fit the model\n",
        "gb_clf.fit(X_train, y_train)\n",
        "\n",
        "# Predict the test dataset using model\n",
        "y_pred = gb_clf.predict(X_test)\n",
        "\n",
        "# Compute confusion matrix\n",
        "conf_matrix = confusion_matrix(y_test, y_pred)\n",
        "print(\"Confusion Matrix:\\n\", conf_matrix)\n",
        "\n",
        "# Visualize confusion matrix\n",
        "sns.heatmap(conf_matrix, annot=True, fmt=\"d\", cmap=\"Blues\", cbar=False)\n",
        "plt.xlabel(\"Predicted Label\")\n",
        "plt.ylabel(\"True Label\")\n",
        "plt.title(\"Confusion Matrix\")\n",
        "plt.show()\n",
        "\n",
        "# Extract true negatives (TN) and false positives (FP) from the confusion matrix\n",
        "TN = conf_matrix[0, 0]\n",
        "FP = conf_matrix[0, 1]\n",
        "\n",
        "# Calculate accuracy\n",
        "accuracy = accuracy_score(y_test, y_pred)\n",
        "print(\"Accuracy: {:.4f}\".format(accuracy))\n",
        "\n",
        "# Calculate precision\n",
        "precision = precision_score(y_test, y_pred)\n",
        "print(\"Precision: {:.4f}\".format(precision))\n",
        "\n",
        "# Calculate recall\n",
        "recall = recall_score(y_test, y_pred)\n",
        "print(\"Recall: {:.4f}\".format(recall))\n",
        "\n",
        "# Calculate specificity\n",
        "specificity = TN / (TN + FP)\n",
        "print(\"Specificity: {:.4f}\".format(specificity))\n",
        "\n",
        "# Calculate F1 score\n",
        "f1 = f1_score(y_test, y_pred)\n",
        "print(\"F1 score: {:.4f}\".format(f1))"
      ],
      "metadata": {
        "colab": {
          "base_uri": "https://localhost:8080/",
          "height": 622
        },
        "id": "IcnrK7vePur_",
        "outputId": "51185aea-4a84-4597-ffdd-3d0cd6d2fe67"
      },
      "execution_count": 3,
      "outputs": [
        {
          "output_type": "stream",
          "name": "stdout",
          "text": [
            "Confusion Matrix:\n",
            " [[313   6]\n",
            " [  6 365]]\n"
          ]
        },
        {
          "output_type": "display_data",
          "data": {
            "text/plain": [
              "<Figure size 640x480 with 1 Axes>"
            ],
            "image/png": "[encoded data removed]"
          },
          "metadata": {}
        },
        {
          "output_type": "stream",
          "name": "stdout",
          "text": [
            "Accuracy: 0.9826\n",
            "Precision: 0.9838\n",
            "Recall: 0.9838\n",
            "Specificity: 0.9812\n",
            "F1 score: 0.9838\n"
          ]
        }
      ]
    },
    {
      "cell_type": "markdown",
      "source": [
        "##### Dataset Version 3"
      ],
      "metadata": {
        "id": "x15JHWxZPw1G"
      }
    },
    {
      "cell_type": "code",
      "source": [
        "# Load dataset\n",
        "train_path = \"/content/removed_train3.csv\"\n",
        "test_path = \"/content/removed_test3.csv\"\n",
        "\n",
        "train_data = pd.read_csv(train_path)\n",
        "test_data = pd.read_csv(test_path)\n",
        "\n",
        "# Split the dataset into X and y\n",
        "X_train = train_data.drop('Diagnosis', axis=1)\n",
        "y_train = train_data['Diagnosis']\n",
        "\n",
        "X_test = test_data.drop('Diagnosis', axis=1)\n",
        "y_test = test_data['Diagnosis']\n",
        "\n",
        "# Initialize gradient boosting classifier\n",
        "gb_clf = GradientBoostingClassifier(n_estimators=100, max_depth=1, random_state=42)\n",
        "\n",
        "# Fit the model\n",
        "gb_clf.fit(X_train, y_train)\n",
        "\n",
        "# Predict the test dataset using model\n",
        "y_pred = gb_clf.predict(X_test)\n",
        "\n",
        "# Compute confusion matrix\n",
        "conf_matrix = confusion_matrix(y_test, y_pred)\n",
        "print(\"Confusion Matrix:\\n\", conf_matrix)\n",
        "\n",
        "# Visualize confusion matrix\n",
        "sns.heatmap(conf_matrix, annot=True, fmt=\"d\", cmap=\"Blues\", cbar=False)\n",
        "plt.xlabel(\"Predicted Label\")\n",
        "plt.ylabel(\"True Label\")\n",
        "plt.title(\"Confusion Matrix\")\n",
        "plt.show()\n",
        "\n",
        "# Extract true negatives (TN) and false positives (FP) from the confusion matrix\n",
        "TN = conf_matrix[0, 0]\n",
        "FP = conf_matrix[0, 1]\n",
        "\n",
        "# Calculate accuracy\n",
        "accuracy = accuracy_score(y_test, y_pred)\n",
        "print(\"Accuracy: {:.4f}\".format(accuracy))\n",
        "\n",
        "# Calculate precision\n",
        "precision = precision_score(y_test, y_pred)\n",
        "print(\"Precision: {:.4f}\".format(precision))\n",
        "\n",
        "# Calculate recall\n",
        "recall = recall_score(y_test, y_pred)\n",
        "print(\"Recall: {:.4f}\".format(recall))\n",
        "\n",
        "# Calculate specificity\n",
        "specificity = TN / (TN + FP)\n",
        "print(\"Specificity: {:.4f}\".format(specificity))\n",
        "\n",
        "# Calculate F1 score\n",
        "f1 = f1_score(y_test, y_pred)\n",
        "print(\"F1 score: {:.4f}\".format(f1))"
      ],
      "metadata": {
        "colab": {
          "base_uri": "https://localhost:8080/",
          "height": 622
        },
        "id": "D89SNctvPyAv",
        "outputId": "cd8f9eb8-e852-4466-9f1e-0eabde399e02"
      },
      "execution_count": 4,
      "outputs": [
        {
          "output_type": "stream",
          "name": "stdout",
          "text": [
            "Confusion Matrix:\n",
            " [[359  11]\n",
            " [ 10 515]]\n"
          ]
        },
        {
          "output_type": "display_data",
          "data": {
            "text/plain": [
              "<Figure size 640x480 with 1 Axes>"
            ],
            "image/png": "[encoded data removed]"
          },
          "metadata": {}
        },
        {
          "output_type": "stream",
          "name": "stdout",
          "text": [
            "Accuracy: 0.9765\n",
            "Precision: 0.9791\n",
            "Recall: 0.9810\n",
            "Specificity: 0.9703\n",
            "F1 score: 0.9800\n"
          ]
        }
      ]
    },
    {
      "cell_type": "markdown",
      "source": [
        "##### Dataset Version 4"
      ],
      "metadata": {
        "id": "wd7piN3_PzlO"
      }
    },
    {
      "cell_type": "code",
      "source": [
        "# Load dataset\n",
        "train_path = \"/content/removed_train4.csv\"\n",
        "test_path = \"/content/removed_test4.csv\"\n",
        "\n",
        "train_data = pd.read_csv(train_path)\n",
        "test_data = pd.read_csv(test_path)\n",
        "\n",
        "# Split the dataset into X and y\n",
        "X_train = train_data.drop('Diagnosis', axis=1)\n",
        "y_train = train_data['Diagnosis']\n",
        "\n",
        "X_test = test_data.drop('Diagnosis', axis=1)\n",
        "y_test = test_data['Diagnosis']\n",
        "\n",
        "# Initialize gradient boosting classifier\n",
        "gb_clf = GradientBoostingClassifier(n_estimators=100, max_depth=1, random_state=42)\n",
        "\n",
        "# Fit the model\n",
        "gb_clf.fit(X_train, y_train)\n",
        "\n",
        "# Predict the test dataset using model\n",
        "y_pred = gb_clf.predict(X_test)\n",
        "\n",
        "# Compute confusion matrix\n",
        "conf_matrix = confusion_matrix(y_test, y_pred)\n",
        "print(\"Confusion Matrix:\\n\", conf_matrix)\n",
        "\n",
        "# Visualize confusion matrix\n",
        "sns.heatmap(conf_matrix, annot=True, fmt=\"d\", cmap=\"Blues\", cbar=False)\n",
        "plt.xlabel(\"Predicted Label\")\n",
        "plt.ylabel(\"True Label\")\n",
        "plt.title(\"Confusion Matrix\")\n",
        "plt.show()\n",
        "\n",
        "# Extract true negatives (TN) and false positives (FP) from the confusion matrix\n",
        "TN = conf_matrix[0, 0]\n",
        "FP = conf_matrix[0, 1]\n",
        "\n",
        "# Calculate accuracy\n",
        "accuracy = accuracy_score(y_test, y_pred)\n",
        "print(\"Accuracy: {:.4f}\".format(accuracy))\n",
        "\n",
        "# Calculate precision\n",
        "precision = precision_score(y_test, y_pred)\n",
        "print(\"Precision: {:.4f}\".format(precision))\n",
        "\n",
        "# Calculate recall\n",
        "recall = recall_score(y_test, y_pred)\n",
        "print(\"Recall: {:.4f}\".format(recall))\n",
        "\n",
        "# Calculate specificity\n",
        "specificity = TN / (TN + FP)\n",
        "print(\"Specificity: {:.4f}\".format(specificity))\n",
        "\n",
        "# Calculate F1 score\n",
        "f1 = f1_score(y_test, y_pred)\n",
        "print(\"F1 score: {:.4f}\".format(f1))"
      ],
      "metadata": {
        "colab": {
          "base_uri": "https://localhost:8080/",
          "height": 622
        },
        "id": "FAJ-rV0tP07v",
        "outputId": "1ab4914d-b4ec-4e0a-f80f-821b6b236e8c"
      },
      "execution_count": 5,
      "outputs": [
        {
          "output_type": "stream",
          "name": "stdout",
          "text": [
            "Confusion Matrix:\n",
            " [[350  10]\n",
            " [ 10 534]]\n"
          ]
        },
        {
          "output_type": "display_data",
          "data": {
            "text/plain": [
              "<Figure size 640x480 with 1 Axes>"
            ],
            "image/png": "[encoded data removed]"
          },
          "metadata": {}
        },
        {
          "output_type": "stream",
          "name": "stdout",
          "text": [
            "Accuracy: 0.9779\n",
            "Precision: 0.9816\n",
            "Recall: 0.9816\n",
            "Specificity: 0.9722\n",
            "F1 score: 0.9816\n"
          ]
        }
      ]
    },
    {
      "cell_type": "markdown",
      "source": [
        "### train.csv + test.csv / 8:2 비율"
      ],
      "metadata": {
        "id": "PuT0UsDuTucT"
      }
    },
    {
      "cell_type": "markdown",
      "source": [
        "##### Dataset Version 1"
      ],
      "metadata": {
        "id": "KCB1enzrT0zO"
      }
    },
    {
      "cell_type": "code",
      "source": [
        "# Load dataset\n",
        "train_path = \"/content/removed_train1.csv\"\n",
        "test_path = \"/content/removed_test1.csv\"\n",
        "\n",
        "train_data = pd.read_csv(train_path)\n",
        "test_data = pd.read_csv(test_path)\n",
        "data = pd.concat([train_data, test_data], axis=0)\n",
        "\n",
        "# Split the dataset into X and y\n",
        "X = data.drop('Diagnosis', axis=1)\n",
        "y = data['Diagnosis']\n",
        "\n",
        "# Split the dataset into train and test\n",
        "X_train, X_test, y_train, y_test = train_test_split(X, y, test_size=0.2, random_state=42)\n",
        "\n",
        "# Initialize gradient boosting classifier\n",
        "gb_clf = GradientBoostingClassifier(n_estimators=100, max_depth=1, random_state=42)\n",
        "\n",
        "# Fit the model\n",
        "gb_clf.fit(X_train, y_train)\n",
        "\n",
        "# Predict the test dataset using model\n",
        "y_pred = gb_clf.predict(X_test)\n",
        "\n",
        "# Compute confusion matrix\n",
        "conf_matrix = confusion_matrix(y_test, y_pred)\n",
        "print(\"Confusion Matrix:\\n\", conf_matrix)\n",
        "\n",
        "# Visualize confusion matrix\n",
        "sns.heatmap(conf_matrix, annot=True, fmt=\"d\", cmap=\"Blues\", cbar=False)\n",
        "plt.xlabel(\"Predicted Label\")\n",
        "plt.ylabel(\"True Label\")\n",
        "plt.title(\"Confusion Matrix\")\n",
        "plt.show()\n",
        "\n",
        "# Extract true negatives (TN) and false positives (FP) from the confusion matrix\n",
        "TN = conf_matrix[0, 0]\n",
        "FP = conf_matrix[0, 1]\n",
        "\n",
        "# Calculate accuracy\n",
        "accuracy = accuracy_score(y_test, y_pred)\n",
        "print(\"Accuracy: {:.4f}\".format(accuracy))\n",
        "\n",
        "# Calculate precision\n",
        "precision = precision_score(y_test, y_pred)\n",
        "print(\"Precision: {:.4f}\".format(precision))\n",
        "\n",
        "# Calculate recall\n",
        "recall = recall_score(y_test, y_pred)\n",
        "print(\"Recall: {:.4f}\".format(recall))\n",
        "\n",
        "# Calculate specificity\n",
        "specificity = TN / (TN + FP)\n",
        "print(\"Specificity: {:.4f}\".format(specificity))\n",
        "\n",
        "# Calculate F1 score\n",
        "f1 = f1_score(y_test, y_pred)\n",
        "print(\"F1 score: {:.4f}\".format(f1))"
      ],
      "metadata": {
        "colab": {
          "base_uri": "https://localhost:8080/",
          "height": 622
        },
        "id": "YsUAhmwrTzYL",
        "outputId": "86e77d81-33d3-4b19-9ba1-7e5151025d56"
      },
      "execution_count": 8,
      "outputs": [
        {
          "output_type": "stream",
          "name": "stdout",
          "text": [
            "Confusion Matrix:\n",
            " [[846   8]\n",
            " [ 19 791]]\n"
          ]
        },
        {
          "output_type": "display_data",
          "data": {
            "text/plain": [
              "<Figure size 640x480 with 1 Axes>"
            ],
            "image/png": "[encoded data removed]"
          },
          "metadata": {}
        },
        {
          "output_type": "stream",
          "name": "stdout",
          "text": [
            "Accuracy: 0.9838\n",
            "Precision: 0.9900\n",
            "Recall: 0.9765\n",
            "Specificity: 0.9906\n",
            "F1 score: 0.9832\n"
          ]
        }
      ]
    },
    {
      "cell_type": "markdown",
      "source": [
        "##### Dataset Version 2"
      ],
      "metadata": {
        "id": "piCRv1Q0UuNq"
      }
    },
    {
      "cell_type": "code",
      "source": [
        "# Load dataset\n",
        "train_path = \"/content/removed_train2.csv\"\n",
        "test_path = \"/content/removed_test2.csv\"\n",
        "\n",
        "train_data = pd.read_csv(train_path)\n",
        "test_data = pd.read_csv(test_path)\n",
        "data = pd.concat([train_data, test_data], axis=0)\n",
        "\n",
        "# Split the dataset into X and y\n",
        "X = data.drop('Diagnosis', axis=1)\n",
        "y = data['Diagnosis']\n",
        "\n",
        "# Split the dataset into train and test\n",
        "X_train, X_test, y_train, y_test = train_test_split(X, y, test_size=0.2, random_state=42)\n",
        "\n",
        "# Initialize gradient boosting classifier\n",
        "gb_clf = GradientBoostingClassifier(n_estimators=100, max_depth=1, random_state=42)\n",
        "\n",
        "# Fit the model\n",
        "gb_clf.fit(X_train, y_train)\n",
        "\n",
        "# Predict the test dataset using model\n",
        "y_pred = gb_clf.predict(X_test)\n",
        "\n",
        "# Compute confusion matrix\n",
        "conf_matrix = confusion_matrix(y_test, y_pred)\n",
        "print(\"Confusion Matrix:\\n\", conf_matrix)\n",
        "\n",
        "# Visualize confusion matrix\n",
        "sns.heatmap(conf_matrix, annot=True, fmt=\"d\", cmap=\"Blues\", cbar=False)\n",
        "plt.xlabel(\"Predicted Label\")\n",
        "plt.ylabel(\"True Label\")\n",
        "plt.title(\"Confusion Matrix\")\n",
        "plt.show()\n",
        "\n",
        "# Extract true negatives (TN) and false positives (FP) from the confusion matrix\n",
        "TN = conf_matrix[0, 0]\n",
        "FP = conf_matrix[0, 1]\n",
        "\n",
        "# Calculate accuracy\n",
        "accuracy = accuracy_score(y_test, y_pred)\n",
        "print(\"Accuracy: {:.4f}\".format(accuracy))\n",
        "\n",
        "# Calculate precision\n",
        "precision = precision_score(y_test, y_pred)\n",
        "print(\"Precision: {:.4f}\".format(precision))\n",
        "\n",
        "# Calculate recall\n",
        "recall = recall_score(y_test, y_pred)\n",
        "print(\"Recall: {:.4f}\".format(recall))\n",
        "\n",
        "# Calculate specificity\n",
        "specificity = TN / (TN + FP)\n",
        "print(\"Specificity: {:.4f}\".format(specificity))\n",
        "\n",
        "# Calculate F1 score\n",
        "f1 = f1_score(y_test, y_pred)\n",
        "print(\"F1 score: {:.4f}\".format(f1))"
      ],
      "metadata": {
        "colab": {
          "base_uri": "https://localhost:8080/",
          "height": 622
        },
        "id": "K4UrCBvpUwn-",
        "outputId": "f423393a-559c-4983-82c6-8c0198f7b90b"
      },
      "execution_count": 9,
      "outputs": [
        {
          "output_type": "stream",
          "name": "stdout",
          "text": [
            "Confusion Matrix:\n",
            " [[803  15]\n",
            " [ 17 817]]\n"
          ]
        },
        {
          "output_type": "display_data",
          "data": {
            "text/plain": [
              "<Figure size 640x480 with 1 Axes>"
            ],
            "image/png": "[encoded data removed]"
          },
          "metadata": {}
        },
        {
          "output_type": "stream",
          "name": "stdout",
          "text": [
            "Accuracy: 0.9806\n",
            "Precision: 0.9820\n",
            "Recall: 0.9796\n",
            "Specificity: 0.9817\n",
            "F1 score: 0.9808\n"
          ]
        }
      ]
    },
    {
      "cell_type": "markdown",
      "source": [
        "##### Dataset Version 3"
      ],
      "metadata": {
        "id": "DTVznU-WUyab"
      }
    },
    {
      "cell_type": "code",
      "source": [
        "# Load dataset\n",
        "train_path = \"/content/removed_train3.csv\"\n",
        "test_path = \"/content/removed_test3.csv\"\n",
        "\n",
        "train_data = pd.read_csv(train_path)\n",
        "test_data = pd.read_csv(test_path)\n",
        "data = pd.concat([train_data, test_data], axis=0)\n",
        "\n",
        "# Split the dataset into X and y\n",
        "X = data.drop('Diagnosis', axis=1)\n",
        "y = data['Diagnosis']\n",
        "\n",
        "# Split the dataset into train and test\n",
        "X_train, X_test, y_train, y_test = train_test_split(X, y, test_size=0.2, random_state=42)\n",
        "\n",
        "# Initialize gradient boosting classifier\n",
        "gb_clf = GradientBoostingClassifier(n_estimators=100, max_depth=1, random_state=42)\n",
        "\n",
        "# Fit the model\n",
        "gb_clf.fit(X_train, y_train)\n",
        "\n",
        "# Predict the test dataset using model\n",
        "y_pred = gb_clf.predict(X_test)\n",
        "\n",
        "# Compute confusion matrix\n",
        "conf_matrix = confusion_matrix(y_test, y_pred)\n",
        "print(\"Confusion Matrix:\\n\", conf_matrix)\n",
        "\n",
        "# Visualize confusion matrix\n",
        "sns.heatmap(conf_matrix, annot=True, fmt=\"d\", cmap=\"Blues\", cbar=False)\n",
        "plt.xlabel(\"Predicted Label\")\n",
        "plt.ylabel(\"True Label\")\n",
        "plt.title(\"Confusion Matrix\")\n",
        "plt.show()\n",
        "\n",
        "# Extract true negatives (TN) and false positives (FP) from the confusion matrix\n",
        "TN = conf_matrix[0, 0]\n",
        "FP = conf_matrix[0, 1]\n",
        "\n",
        "# Calculate accuracy\n",
        "accuracy = accuracy_score(y_test, y_pred)\n",
        "print(\"Accuracy: {:.4f}\".format(accuracy))\n",
        "\n",
        "# Calculate precision\n",
        "precision = precision_score(y_test, y_pred)\n",
        "print(\"Precision: {:.4f}\".format(precision))\n",
        "\n",
        "# Calculate recall\n",
        "recall = recall_score(y_test, y_pred)\n",
        "print(\"Recall: {:.4f}\".format(recall))\n",
        "\n",
        "# Calculate specificity\n",
        "specificity = TN / (TN + FP)\n",
        "print(\"Specificity: {:.4f}\".format(specificity))\n",
        "\n",
        "# Calculate F1 score\n",
        "f1 = f1_score(y_test, y_pred)\n",
        "print(\"F1 score: {:.4f}\".format(f1))"
      ],
      "metadata": {
        "colab": {
          "base_uri": "https://localhost:8080/",
          "height": 622
        },
        "id": "owniT8XFU0Iq",
        "outputId": "bdf78872-f2e9-45bf-b6f6-2bd7e412726c"
      },
      "execution_count": 10,
      "outputs": [
        {
          "output_type": "stream",
          "name": "stdout",
          "text": [
            "Confusion Matrix:\n",
            " [[984  17]\n",
            " [ 12 952]]\n"
          ]
        },
        {
          "output_type": "display_data",
          "data": {
            "text/plain": [
              "<Figure size 640x480 with 1 Axes>"
            ],
            "image/png": "[encoded data removed]"
          },
          "metadata": {}
        },
        {
          "output_type": "stream",
          "name": "stdout",
          "text": [
            "Accuracy: 0.9852\n",
            "Precision: 0.9825\n",
            "Recall: 0.9876\n",
            "Specificity: 0.9830\n",
            "F1 score: 0.9850\n"
          ]
        }
      ]
    },
    {
      "cell_type": "markdown",
      "source": [
        "##### Dataset Version 4"
      ],
      "metadata": {
        "id": "XUsJDVvpU15K"
      }
    },
    {
      "cell_type": "code",
      "source": [
        "# Load dataset\n",
        "train_path = \"/content/removed_train4.csv\"\n",
        "test_path = \"/content/removed_test4.csv\"\n",
        "\n",
        "train_data = pd.read_csv(train_path)\n",
        "test_data = pd.read_csv(test_path)\n",
        "data = pd.concat([train_data, test_data], axis=0)\n",
        "\n",
        "# Split the dataset into X and y\n",
        "X = data.drop('Diagnosis', axis=1)\n",
        "y = data['Diagnosis']\n",
        "\n",
        "# Split the dataset into train and test\n",
        "X_train, X_test, y_train, y_test = train_test_split(X, y, test_size=0.2, random_state=42)\n",
        "\n",
        "# Initialize gradient boosting classifier\n",
        "gb_clf = GradientBoostingClassifier(n_estimators=100, max_depth=1, random_state=42)\n",
        "\n",
        "# Fit the model\n",
        "gb_clf.fit(X_train, y_train)\n",
        "\n",
        "# Predict the test dataset using model\n",
        "y_pred = gb_clf.predict(X_test)\n",
        "\n",
        "# Compute confusion matrix\n",
        "conf_matrix = confusion_matrix(y_test, y_pred)\n",
        "print(\"Confusion Matrix:\\n\", conf_matrix)\n",
        "\n",
        "# Visualize confusion matrix\n",
        "sns.heatmap(conf_matrix, annot=True, fmt=\"d\", cmap=\"Blues\", cbar=False)\n",
        "plt.xlabel(\"Predicted Label\")\n",
        "plt.ylabel(\"True Label\")\n",
        "plt.title(\"Confusion Matrix\")\n",
        "plt.show()\n",
        "\n",
        "# Extract true negatives (TN) and false positives (FP) from the confusion matrix\n",
        "TN = conf_matrix[0, 0]\n",
        "FP = conf_matrix[0, 1]\n",
        "\n",
        "# Calculate accuracy\n",
        "accuracy = accuracy_score(y_test, y_pred)\n",
        "print(\"Accuracy: {:.4f}\".format(accuracy))\n",
        "\n",
        "# Calculate precision\n",
        "precision = precision_score(y_test, y_pred)\n",
        "print(\"Precision: {:.4f}\".format(precision))\n",
        "\n",
        "# Calculate recall\n",
        "recall = recall_score(y_test, y_pred)\n",
        "print(\"Recall: {:.4f}\".format(recall))\n",
        "\n",
        "# Calculate specificity\n",
        "specificity = TN / (TN + FP)\n",
        "print(\"Specificity: {:.4f}\".format(specificity))\n",
        "\n",
        "# Calculate F1 score\n",
        "f1 = f1_score(y_test, y_pred)\n",
        "print(\"F1 score: {:.4f}\".format(f1))"
      ],
      "metadata": {
        "colab": {
          "base_uri": "https://localhost:8080/",
          "height": 622
        },
        "id": "zyO8JdtWU3Lc",
        "outputId": "6ab2a65a-e24f-4e2f-8a23-b690d92933ce"
      },
      "execution_count": 11,
      "outputs": [
        {
          "output_type": "stream",
          "name": "stdout",
          "text": [
            "Confusion Matrix:\n",
            " [[1008   20]\n",
            " [  13  945]]\n"
          ]
        },
        {
          "output_type": "display_data",
          "data": {
            "text/plain": [
              "<Figure size 640x480 with 1 Axes>"
            ],
            "image/png": "[encoded data removed]"
          },
          "metadata": {}
        },
        {
          "output_type": "stream",
          "name": "stdout",
          "text": [
            "Accuracy: 0.9834\n",
            "Precision: 0.9793\n",
            "Recall: 0.9864\n",
            "Specificity: 0.9805\n",
            "F1 score: 0.9828\n"
          ]
        }
      ]
    },
    {
      "cell_type": "markdown",
      "source": [
        "### 전처리 전 dataset"
      ],
      "metadata": {
        "id": "0j8ydjE9cr-X"
      }
    },
    {
      "cell_type": "code",
      "source": [
        "# Load dataset\n",
        "train_path = \"/content/train_modified.csv\"\n",
        "test_path = \"/content/test_edit.csv\"\n",
        "\n",
        "train_data = pd.read_csv(train_path)\n",
        "test_data = pd.read_csv(test_path)\n",
        "\n",
        "# Encode categorical variable\n",
        "train_data['Sex'] = train_data['Sex'].map({'Male' : 0, 'Female' : 1})\n",
        "train_data['Race'] = train_data['Race'].map({'Asian' : 0, 'Hispanic' : 1, 'Black' : 2, 'White' : 3})\n",
        "train_data['Housing'] = train_data['Housing'].map({'Unstable' : 0, 'Stable' : 1})\n",
        "train_data['Delay'] = train_data['Delay'].map({'No' : 0, 'Yes' : 1})\n",
        "\n",
        "test_data['Sex'] = test_data['Sex'].map({'Male' : 0, 'Female' : 1})\n",
        "test_data['Race'] = test_data['Race'].map({'Asian' : 0, 'Hispanic' : 1, 'Black' : 2, 'White' : 3})\n",
        "test_data['Housing'] = test_data['Housing'].map({'Unstable' : 0, 'Stable' : 1})\n",
        "test_data['Delay'] = test_data['Delay'].map({'No' : 0, 'Yes' : 1})\n",
        "\n",
        "# Drop row that has missing value\n",
        "train_data.dropna(inplace=True)\n",
        "\n",
        "# Drop unused row\n",
        "test_data.drop('Unnamed: 0', axis=1, inplace=True)\n",
        "\n",
        "# Split the dataset into X and y\n",
        "X_train = train_data.drop('Diagnosis', axis=1)\n",
        "y_train = train_data['Diagnosis']\n",
        "\n",
        "X_test = test_data.drop('Diagnosis', axis=1)\n",
        "y_test = test_data['Diagnosis']\n",
        "\n",
        "# Initialize gradient boosting classifier\n",
        "gb_clf = GradientBoostingClassifier(n_estimators=100, max_depth=1, random_state=42)\n",
        "\n",
        "# Fit the model\n",
        "gb_clf.fit(X_train, y_train)\n",
        "\n",
        "# Predict the test dataset using model\n",
        "y_pred = gb_clf.predict(X_test)\n",
        "\n",
        "# Compute confusion matrix\n",
        "conf_matrix = confusion_matrix(y_test, y_pred)\n",
        "print(\"Confusion Matrix:\\n\", conf_matrix)\n",
        "\n",
        "# Visualize confusion matrix\n",
        "sns.heatmap(conf_matrix, annot=True, fmt=\"d\", cmap=\"Blues\", cbar=False)\n",
        "plt.xlabel(\"Predicted Label\")\n",
        "plt.ylabel(\"True Label\")\n",
        "plt.title(\"Confusion Matrix\")\n",
        "plt.show()\n",
        "\n",
        "# Extract true negatives (TN) and false positives (FP) from the confusion matrix\n",
        "TN = conf_matrix[0, 0]\n",
        "FP = conf_matrix[0, 1]\n",
        "\n",
        "# Calculate accuracy\n",
        "accuracy = accuracy_score(y_test, y_pred)\n",
        "print(\"Accuracy: {:.4f}\".format(accuracy))\n",
        "\n",
        "# Calculate precision\n",
        "precision = precision_score(y_test, y_pred)\n",
        "print(\"Precision: {:.4f}\".format(precision))\n",
        "\n",
        "# Calculate recall\n",
        "recall = recall_score(y_test, y_pred)\n",
        "print(\"Recall: {:.4f}\".format(recall))\n",
        "\n",
        "# Calculate specificity\n",
        "specificity = TN / (TN + FP)\n",
        "print(\"Specificity: {:.4f}\".format(specificity))\n",
        "\n",
        "# Calculate F1 score\n",
        "f1 = f1_score(y_test, y_pred)\n",
        "print(\"F1 score: {:.4f}\".format(f1))"
      ],
      "metadata": {
        "colab": {
          "base_uri": "https://localhost:8080/",
          "height": 622
        },
        "id": "EnoGS0Y0ctmI",
        "outputId": "86957d3b-d355-404a-f317-2387b36be576"
      },
      "execution_count": 12,
      "outputs": [
        {
          "output_type": "stream",
          "name": "stdout",
          "text": [
            "Confusion Matrix:\n",
            " [[397  15]\n",
            " [ 13 575]]\n"
          ]
        },
        {
          "output_type": "display_data",
          "data": {
            "text/plain": [
              "<Figure size 640x480 with 1 Axes>"
            ],
            "image/png": "[encoded data removed]"
          },
          "metadata": {}
        },
        {
          "output_type": "stream",
          "name": "stdout",
          "text": [
            "Accuracy: 0.9720\n",
            "Precision: 0.9746\n",
            "Recall: 0.9779\n",
            "Specificity: 0.9636\n",
            "F1 score: 0.9762\n"
          ]
        }
      ]
    }
  ]
}